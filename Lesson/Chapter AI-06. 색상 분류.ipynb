{
 "cells": [
  {
   "cell_type": "markdown",
   "metadata": {},
   "source": [
    "<img src=\"image/ai0/Title_Color_classifier.png\" width=1000>"
   ]
  },
  {
   "cell_type": "markdown",
   "metadata": {},
   "source": [
    "# 색상 분류하기\n",
    "\n",
    "\n",
    "## 주미에게 어떻게 색상을 가르칠까요?   \n",
    "\n",
    "\n",
    "## 머신러닝(기계학습)이란?\n",
    "인간이 다양한 경험과 시행착오를 통해 지식을 배우는 것처럼, 컴퓨터에게 충분히 많은 데이터를 주고, 거기에서 일반적인 패턴을 찾아내게 하는 방법을 말합니다. 이렇게 되면 컴퓨터는 입력하지 않은 정보에 대해서도 예측이나 결정을 할 수 있게됩니다.    \n",
    "이것을 머신러닝이라고 합니다."
   ]
  },
  {
   "cell_type": "markdown",
   "metadata": {},
   "source": [
    "<img src=\"image/ai0/color_classifier_01.png\" width=1100>"
   ]
  },
  {
   "cell_type": "markdown",
   "metadata": {},
   "source": [
    "<br>\n",
    "\n",
    "## KNN 알고리즘(K-Nearest Neighbors Algorithm)"
   ]
  },
  {
   "cell_type": "markdown",
   "metadata": {},
   "source": [
    "KNN 알고리즘은 데이터 사이언스에서 자주 활용되는 유명한 분류 알고리즘 중 하나입니다.   \n",
    "KNN은 분류가 필요한 입력 데이터를 기준으로, 분류되어 있는 기존의 데이터와의 거리를 계산한 후 가장 거리가 가까운 데이터 K개를 선정합니다. 그리고 선정된 K개의 데이터들 중 가장 많은 데이터가 속한 그룹으로 분류하는 방식입니다."
   ]
  },
  {
   "cell_type": "markdown",
   "metadata": {},
   "source": [
    "<img src=\"image/ai0/color_classifier_02.png\" width=1100>"
   ]
  },
  {
   "cell_type": "markdown",
   "metadata": {},
   "source": [
    "<br>\n",
    "\n",
    "## 1) 모듈 가져오기   \n",
    "이 셀은 카메라와 같은 주미의 필요한 모든 기능을 가져올 수 있습니다.  \n",
    "만약 이 셀을 실행하지 않으면, 이후의 프로그램은 작동하지 않습니다!"
   ]
  },
  {
   "cell_type": "code",
   "execution_count": null,
   "metadata": {},
   "outputs": [],
   "source": [
    "from module.color_classifier import ColorClassifier\n",
    "\n",
    "from zumi.zumi import Zumi\n",
    "from zumi.util.camera import Camera\n",
    "from zumi.util.screen import Screen\n",
    "from threading import Thread\n",
    "import IPython.display\n",
    "import PIL.Image\n",
    "\n",
    "zumi = Zumi()\n",
    "camera = Camera()\n",
    "screen = Screen()"
   ]
  },
  {
   "cell_type": "markdown",
   "metadata": {},
   "source": [
    "<br>\n",
    "\n",
    "## 2) 데이터 설정 및 수집\n",
    "\n",
    "여러분은 주미가 2가지 색상을 구별하도록 훈련시키려 합니다. 컬러 카드 중 여러분이 가장 좋아하는 2가지의 색상을 선택하고 훈련을 위한 준비를 합시다. 코드를 실행하면, 다음을 입력하도록 요청할 것입니다.   \n",
    "\n",
    "* 프로젝트 이름 : 이 프로젝트의 명칭입니다. 가능한 짧게 하여 여러분이 어떤 프로그램을 작업 중인지 기억하기 쉽도록 하십시오.   \n",
    "  예시: `RedGreen`   \n",
    "\n",
    "\n",
    "* 레이블의 갯수 : 주미에게 가르치려는 색상의 숫자입니다.    \n",
    "  예시: 만약 빨간색과 녹색이 있다면, `2`를 입력합니다.   \n",
    "\n",
    "\n",
    "* 레이블에 이름과 키보드 명령 : 각각의 색상에 대해,  \n",
    "  여러분이 넣은 색깔의 이름을 입력하고 주미에게 어떤 색인지 알려줄 수 있는 관련 핵심어를 넣도록 합니다.  \n",
    "  \n",
    "  예시:   \n",
    "  빨간색의이름은`red`로하고 키보드 명령은 알파벳 `r`로 합니다.   \n",
    "  녹색의이름은 `green`로하고 키보드 명령은 알파벳 `g`로 합니다.   \n",
    "  \n",
    "  오직 `q `만 핵심어로 활용될 수 없는데 이는 해당 버튼은 프로그램을 종료시키기 때문입니다.   \n",
    "  각각의 색상 작업 후, `Enter`를 눌러 레이블과 명령이 올바른지를 검증하도록 합니다.   \n",
    "  핵심 명령을 꼭 기억하도록 합니다. 왜냐하면 교육 데이터를 수집하는 때에 필요로 하기 때문입니다.   \n",
    "\n",
    "\n",
    "* 한 번에 찍고 싶은 사진의 양 : 이 프로그램은 한번에 얼마나 많은 사진을 찍을지 물어볼 것입니다.    \n",
    "  이 데모의경우, 50을 입력하세요. 프로젝트가 작동하려면 `최소한 30장`의 사진이 필요합니다. (`50장`을 추천합니다.)\n",
    "\n",
    "\n",
    "* 주미 카메라에서 약 12cm 떨어진 곳에 컬러 카드를 각각 배치하고 키보드에서 해당 색상에 해당하는 핵심 명령을 누릅니다.(`r` or `g`)\n",
    "\n",
    "\n",
    "* 결과창의 레이블을 확인하고 엔터를 눌러 확인합니다. 만약 데이터를 삭제하려면 화면의 지침을 따르세요.   \n",
    " \n",
    " \n",
    "* 다양한 조명과 각도에서사진을 찍어보도록하세요!   \n",
    "\n",
    "\n",
    "* 입력되는 `레이블의 양은 모두 동일`해야합니다. 동일하지 않으면 종료할 수 없습니다.   \n",
    "\n",
    "\n",
    "* 다 끝마쳤으면, `q` 버튼을 눌러 종료하세요.   \n",
    "\n",
    "\n",
    "* 참고: 카메라에 오류가 있는경우, 주피터 노트북을 닫았다가 다시 열도록합니다. "
   ]
  },
  {
   "cell_type": "code",
   "execution_count": null,
   "metadata": {},
   "outputs": [],
   "source": [
    "camera.start_camera()\n",
    "try:\n",
    "    knn = ColorClassifier()\n",
    "    train = knn.set_values()\n",
    "    \n",
    "    if train:\n",
    "        print(\"데이터 수집을 시작하십시오. 중지하려면 'q'를 누르십시오.\")\n",
    "        cnt = int(input(\"한 번에 찍고 싶은 사진의 양을 입력하십시오. : \"))\n",
    "        while True:\n",
    "            knn.add_datas(camera, cnt)\n",
    "            if knn.check_enough_datas(balance=True):\n",
    "                break\n",
    "\n",
    "        knn.save_data_set()\n",
    "        knn.get_accuracy()\n",
    "        \n",
    "finally:\n",
    "    camera.close()"
   ]
  },
  {
   "cell_type": "markdown",
   "metadata": {},
   "source": [
    "<img src=\"image/ai0/color_classifier_03.png\" width=500>"
   ]
  },
  {
   "cell_type": "markdown",
   "metadata": {},
   "source": [
    "<img src=\"image/ai0/color_classifier_04.png\" width=500>"
   ]
  },
  {
   "cell_type": "markdown",
   "metadata": {},
   "source": [
    "<br>\n",
    "\n",
    "## 3) 예측하기\n",
    "다음 코드를 실행하여 값을 예측합니다. 다양한 개체를 수집하여 카메라 앞에 놓도록 합니다.    \n",
    "\n",
    "* `Enter키`를 눌려 주미가 색상을 추측하도록 합니다.    \n",
    "* 주미가 올바르게 맞췄습니까?    \n",
    "* 종료하려면 `q` 를 입력합니다."
   ]
  },
  {
   "cell_type": "code",
   "execution_count": null,
   "metadata": {},
   "outputs": [],
   "source": [
    "try:\n",
    "    print(\"예측을 시작합니다. 'Enter 키'를 눌러서 시작하십시오!\")\n",
    "    camera.start_camera()\n",
    "    knn.fit(\"hsv\")\n",
    "    while True:\n",
    "        if input(\"`Enter 키`를 누르면 예측을 시작합니다. 중지하려면 'q'를 누르십시오: \") == 'q':\n",
    "            break\n",
    "        image = camera.capture()\n",
    "        predict = knn.predict(image)\n",
    "        print(predict)\n",
    "        screen.draw_text(predict)\n",
    "finally:\n",
    "    camera.close()"
   ]
  },
  {
   "cell_type": "markdown",
   "metadata": {},
   "source": [
    "<img src=\"image/ai0/color_classifier_05.png\" width=500>"
   ]
  },
  {
   "cell_type": "markdown",
   "metadata": {},
   "source": [
    "<br>\n",
    "\n",
    "## 색상 인식 응용 1\n",
    "다음은 색상 인식을 사용하여 주미가 전진과 후진을 하는 예제입니다.   \n",
    "\n",
    "* `Enter`키를 눌려 주미가 색상을 추측하도록 합니다.   \n",
    "* 감지된 색상이 `green`인 경우에는 전진, 감지된 색상이 `red`인 경우에는 후진합니다.\"\n",
    "* 종료하려면 `q` 를 입력합니다."
   ]
  },
  {
   "cell_type": "code",
   "execution_count": null,
   "metadata": {},
   "outputs": [],
   "source": [
    "try:\n",
    "    print(\"예측을 시작합니다. 'Enter 키'를 눌러서 시작하십시오!\")\n",
    "    camera.start_camera()\n",
    "    \n",
    "    knn.fit(\"hsv\")\n",
    "    \n",
    "    while True:\n",
    "        if input(\"`Enter 키`를 누르면 예측을 시작합니다. 중지하려면 'q'를 누르십시오: \") == 'q':\n",
    "            break\n",
    "        image = camera.capture()\n",
    "        predict = knn.predict(image)\n",
    "        \n",
    "        print(predict)\n",
    "            \n",
    "        if predict == \"green\":\n",
    "            zumi.forward()\n",
    "        if predict == \"red\":\n",
    "            zumi.reverse() \n",
    "            \n",
    "finally:\n",
    "    camera.close()"
   ]
  },
  {
   "cell_type": "markdown",
   "metadata": {},
   "source": [
    "<br>\n",
    "\n",
    "## 색상 인식 응용 2\n",
    "다음은 색상 인식을 사용하여 주미가 전진과 정지를 하는 예제입니다.  \n",
    "\n",
    "* 색상예측을 시작하면 계속해서 자동적으로 색상을 감지합니다.   \n",
    "* 감지된 색상이 `green`인 경우에는 계속해서 전진을 하고, 감지된 색상이 `red`인 경우에는 정지합니다.   \n",
    "* 한번 시작하게 되면 이 셀은 영원히 실행될 것입니다. 이때 두 번째 툴바에서 “Stop”버튼 ■ 을 누른다면 종료할 수 있습니다"
   ]
  },
  {
   "cell_type": "code",
   "execution_count": null,
   "metadata": {},
   "outputs": [],
   "source": [
    "global is_green\n",
    "is_green = False\n",
    "\n",
    "def continue_straight():\n",
    "    while is_green:\n",
    "        zumi.go_straight(10, 0)\n",
    "    zumi.stop()\n",
    "\n",
    "try:\n",
    "    \n",
    "    zumi = Zumi()\n",
    "    print(\"예측을 시작합니다. 'Enter 키'를 눌러서 시작하십시오!\")\n",
    "    camera.start_camera()\n",
    "    knn.fit(\"hsv\")\n",
    "    \n",
    "    input(\"`Enter 키`를 누르면 예측을 시작합니다.\") \n",
    "        \n",
    "    while True:\n",
    "        \n",
    "        image = camera.capture()\n",
    "        predict = knn.predict(image)\n",
    "        print(predict)\n",
    "        \n",
    "        if predict == \"green\":\n",
    "            is_green = True\n",
    "            drive_thread = Thread(target=continue_straight)\n",
    "            drive_thread.start()\n",
    "            \n",
    "        if predict == \"red\":\n",
    "            is_green = False\n",
    "            zumi.stop()\n",
    "        \n",
    "        IPython.display.clear_output(wait=True) # Clear the output screen\n",
    "                    \n",
    "finally:\n",
    "    is_green = False\n",
    "    zumi.stop()\n",
    "    camera.close()"
   ]
  }
 ],
 "metadata": {
  "kernelspec": {
   "display_name": "Python 3",
   "language": "python",
   "name": "python3"
  },
  "language_info": {
   "codemirror_mode": {
    "name": "ipython",
    "version": 3
   },
   "file_extension": ".py",
   "mimetype": "text/x-python",
   "name": "python",
   "nbconvert_exporter": "python",
   "pygments_lexer": "ipython3",
   "version": "3.5.3"
  }
 },
 "nbformat": 4,
 "nbformat_minor": 2
}
