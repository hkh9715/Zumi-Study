{
 "cells": [
  {
   "cell_type": "markdown",
   "metadata": {},
   "source": [
    "<img src=\"image/ai0/Title_QR_Code.png\" width=1000>"
   ]
  },
  {
   "cell_type": "markdown",
   "metadata": {},
   "source": [
    "# QR 코드 인식\n",
    "\n",
    "# QR Codes\n",
    "\n",
    "<font size=3>WiFi에 연결하거나 URL로 이동하거나 게임을 하거나 결제하는 등 다양한 종류의 'QR(Quick Response)' 코드를 본 적이 있을 겁니다.   \n",
    "    이 코드들은 컴퓨터로 쉽게 읽을 수 있는 응축된 라벨이기 때문에 널리 사용됩니다.   \n",
    "    스마트폰에는 QR코드 스캐너가 내장돼 있지만 이를 해독할 수 있는 애플리케이션도 많습니다.\n",
    "</font>"
   ]
  },
  {
   "cell_type": "markdown",
   "metadata": {},
   "source": [
    "## QR Code는 어떻게 작동할까?\n",
    "\n",
    "<font size = 3>QR 코드는 사람에게는 임의의 픽셀 배열처럼 보일 수 있지만 인코딩 된 정보가 들어 있습니다!   \n",
    "        다음 이미지는 각각 텍스트 정보를 가지고 있는 QR 코드입니다.   \n",
    "    예제를 실행하여 어떤 텍스트 정보가 있는지 확인해 봅시다.\n",
    "</font>\n",
    "\n",
    "<img src=\"image/ai0/QR_Code_01.png\" width=600>"
   ]
  },
  {
   "cell_type": "markdown",
   "metadata": {},
   "source": [
    "<br>\n",
    "\n",
    "## QR 코드를 인식하고 화면에 표시\n",
    "\n",
    "QR 코드 인식 명령을 사용 하기 위해서는 다음라이브러리를 가져와야합니다."
   ]
  },
  {
   "cell_type": "code",
   "execution_count": null,
   "metadata": {},
   "outputs": [],
   "source": [
    "from zumi.util.vision import Vision"
   ]
  },
  {
   "cell_type": "markdown",
   "metadata": {},
   "source": [
    "<br>\n",
    "\n",
    "# 주미의 QR 코드 인식 명령어 소개\n",
    "\n",
    "### vision.find_QR_code(image)\n",
    "* 이미지에서 QR 코드 개체의 위치와 메시지를 찾아 이미지에 표시합니다.\n",
    "* 반환 : QR이 발견되면 QR 객체 정보를 반환합니다. 그렇지 않으면 None을 반환합니다.\n",
    "\n",
    "<br>\n",
    "\n",
    "## 다음의 명령어들은  find_QR_code 명령어에서 반환된 QR 객체 정보를 사용합니다.\n",
    "\n",
    "<br>\n",
    "\n",
    "### vision.get_QR_center(qr_code)\n",
    "* QR 객체 중심의 x,y 좌표를 반환합니다. (x 및 y 좌표를 포함하는 튜플(x,y))\n",
    "\n",
    "### vision.get_QR_dimensions(qr_code)\n",
    "* QR 객체의 높이 및 너비를 반환합니다. (QR 코드의 폭과 높이가 있는 튜플(w,h))\n",
    "\n",
    "### vision.get_QR_message(qr_code)\n",
    "* QR 객체로 인코딩된 텍스트 메시지 반환\n",
    "\n",
    "### vision.get_QR_polygon(qr_code)\n",
    "* 각각 좌표가 (x,y)인 QR 객체를 묶는 4개의 점을 반환합니다. (각 점이 QR 코드의 경계 다각형의 점에 해당하는 튜플(x,y)인 튜플(p1,p2,p3,p4))"
   ]
  },
  {
   "cell_type": "code",
   "execution_count": null,
   "metadata": {},
   "outputs": [],
   "source": [
    "from zumi.util.camera import Camera\n",
    "from zumi.util.vision import Vision\n",
    "\n",
    "camera = Camera()\n",
    "vision = Vision()\n",
    "camera.start_camera()\n",
    "\n",
    "try:\n",
    "    for i in range(100):\n",
    "        image = camera.capture()\n",
    "        \n",
    "        qr_code = vision.find_QR_code(image)\n",
    "\n",
    "        print(\"center : \" , vision.get_QR_center(qr_code))\n",
    "        print(\"dimensions : \" , vision.get_QR_dimensions(qr_code))                \n",
    "        print(\"message : \" , vision.get_QR_message(qr_code))\n",
    "        print(\"polygon : \" , vision.get_QR_polygon(qr_code))\n",
    "\n",
    "        camera.show_image(image)\n",
    "        camera.clear_output()\n",
    "finally:\n",
    "    camera.close()\n",
    "    print(\"done\")"
   ]
  },
  {
   "cell_type": "markdown",
   "metadata": {},
   "source": [
    "<img src=\"image/ai0/QR_Code_02.png\" width=1000>"
   ]
  },
  {
   "cell_type": "markdown",
   "metadata": {},
   "source": [
    "<br>\n",
    "\n",
    "## QR 코드를 생성해보기\n",
    "\n",
    "`QR 코드 생성기` 를 검색하고 사용하여 \n",
    " QR 코드를 생성하고 주미로 QR 코드를 인식해 봅니다.(※ 네이버 QR 코드 생성기 https://qr.naver.com/)  "
   ]
  },
  {
   "cell_type": "markdown",
   "metadata": {},
   "source": [
    "<img src=\"image/ai0/QR_Code_03.png\" width=1000>"
   ]
  },
  {
   "cell_type": "markdown",
   "metadata": {},
   "source": [
    "<br>\n",
    "\n",
    "## QR 코드를 사용하는 길찾기 보드 게임\n",
    "\n",
    "QR 코드를 차례로 인식하고 주미는 몇 번 길로 나가는지 찾아보세요. \n",
    "QR 코드를 인식하면 길이 나타납니다.\n",
    "\n",
    "[QR 보드판](image/ai0/QR_Code_04.png)\n",
    "\n",
    "<img src=\"image/ai0/QR_Code_04.png\" width=800>"
   ]
  }
 ],
 "metadata": {
  "kernelspec": {
   "display_name": "Python 3",
   "language": "python",
   "name": "python3"
  },
  "language_info": {
   "codemirror_mode": {
    "name": "ipython",
    "version": 3
   },
   "file_extension": ".py",
   "mimetype": "text/x-python",
   "name": "python",
   "nbconvert_exporter": "python",
   "pygments_lexer": "ipython3",
   "version": "3.5.3"
  }
 },
 "nbformat": 4,
 "nbformat_minor": 2
}
