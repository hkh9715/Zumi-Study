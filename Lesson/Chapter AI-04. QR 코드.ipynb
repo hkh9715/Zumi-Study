{
 "cells": [
  {
   "cell_type": "markdown",
   "metadata": {},
   "source": [
    "<img src=\"image/ai0/Title_QR_Code.png\" width=1000>"
   ]
  },
  {
   "cell_type": "markdown",
   "metadata": {},
   "source": [
    "# QR 코드 인식\n",
    "\n",
    "# QR Codes\n",
    "\n",
    "<font size=3>WiFi에 연결하거나 URL로 이동하거나 게임을 하거나 결제하는 등 다양한 종류의 'QR(Quick Response)' 코드를 본 적이 있을 겁니다.   \n",
    "    이 코드들은 컴퓨터로 쉽게 읽을 수 있는 응축된 라벨이기 때문에 널리 사용됩니다.   \n",
    "    스마트폰에는 QR코드 스캐너가 내장돼 있지만 이를 해독할 수 있는 애플리케이션도 많습니다.\n",
    "</font>"
   ]
  },
  {
   "cell_type": "markdown",
   "metadata": {},
   "source": [
    "## QR Code는 어떻게 작동할까?\n",
    "\n",
    "<font size = 3>QR 코드는 사람에게는 임의의 픽셀 배열처럼 보일 수 있지만 인코딩 된 정보가 들어 있습니다!   \n",
    "        다음 이미지는 각각 텍스트 정보를 가지고 있는 QR 코드입니다.   \n",
    "    예제를 실행하여 어떤 텍스트 정보가 있는지 확인해 봅시다.\n",
    "</font>\n",
    "\n",
    "<img src=\"image/ai0/QR_Code_01.png\" width=600>"
   ]
  },
  {
   "cell_type": "markdown",
   "metadata": {},
   "source": [
    "<br>\n",
    "\n",
    "## QR 코드를 인식하고 화면에 표시\n",
    "\n",
    "카메라로 QR 코드를 인식하고, 화면과 스크린에 표시합니다.\n",
    "\n",
    "* 한번 시작하게 되면 이 셀은 영원히 실행될 것입니다. 이때 두 번째 툴바에서 “Stop”버튼 ■ 을 누른다면 종료할 수 있습니다"
   ]
  },
  {
   "cell_type": "code",
   "execution_count": null,
   "metadata": {},
   "outputs": [],
   "source": [
    "import cv2\n",
    "import numpy as np\n",
    "import pyzbar.pyzbar as pyzbar\n",
    "import IPython.display\n",
    "import PIL.Image\n",
    "import time\n",
    "from zumi.util.camera import Camera\n",
    "from zumi.util.screen import Screen\n",
    "from zumi.zumi import Zumi\n",
    "\n",
    "zumi = Zumi()\n",
    "screen = Screen()\n",
    "cam = Camera()\n",
    "cam.start_camera() \n",
    "\n",
    "try:\n",
    "    while True:\n",
    "        frame = cam.capture() # 사진을 찍습니다.  \n",
    "        h,w,channel = frame.shape # 이미지의 높이와 너비를 가져옵니다.\n",
    "        decodedObjects = pyzbar.decode(frame) # 이미지에서 QR 코드를 찾습니다.\n",
    "\n",
    "        if len(decodedObjects) > 0: # QR 코드를 찾았다면 실행합니다.\n",
    "            for obj in decodedObjects:\n",
    "                \n",
    "                # 찾은 QR 코드의 테두리를 표시 합니다.\n",
    "                x, y, w, h = obj.rect                 \n",
    "                cv2.rectangle(frame, (x,y), (x+w, y+h), (0,0,255), 2)\n",
    "                                \n",
    "                print(\"Found \", obj.type) # 코드 유형을 출력합니다.\n",
    "                data = obj.data.decode(\"utf-8\") # 메시지를 해독합니다.\n",
    "                print(\"Message: \", data) # 메시지를 출력합니다.  \n",
    "                                      \n",
    "                # QR코드를 찾게되면 부저소리와 화면에 주미 스크린에 표시 됩니다.\n",
    "                zumi.play_note(120,20)\n",
    "                screen.draw_text_center(data)\n",
    "                \n",
    "        # 화면을 지우고 새로운 이미지를 표시합니다.\n",
    "        IPython.display.clear_output(wait=True) \n",
    "        IPython.display.display(PIL.Image.fromarray(frame))      \n",
    "finally:\n",
    "    cam.close()"
   ]
  },
  {
   "cell_type": "markdown",
   "metadata": {},
   "source": [
    "<img src=\"image/ai0/QR_Code_02.png\" width=1000>"
   ]
  },
  {
   "cell_type": "markdown",
   "metadata": {},
   "source": [
    "<br>\n",
    "\n",
    "## QR 코드를 생성해보기\n",
    "\n",
    "`QR 코드 생성기` 를 검색하고 사용하여 \n",
    " QR 코드를 생성하고 주미로 QR 코드를 인식해 봅니다.(※ 네이버 QR 코드 생성기 https://qr.naver.com/)  "
   ]
  },
  {
   "cell_type": "markdown",
   "metadata": {},
   "source": [
    "<img src=\"image/ai0/QR_Code_03.png\" width=1000>"
   ]
  },
  {
   "cell_type": "markdown",
   "metadata": {},
   "source": [
    "<br>\n",
    "\n",
    "## QR 코드를 사용하는 길찾기 보드 게임\n",
    "\n",
    "QR 코드를 차례로 인식하고 주미는 몇 번 길로 나가는지 찾아보세요. \n",
    "QR 코드를 인식하면 길이 나타납니다.\n",
    "\n",
    "[QR 보드판](image/ai0/QR_Code_04.png)\n",
    "\n",
    "<img src=\"image/ai0/QR_Code_04.png\" width=800>"
   ]
  }
 ],
 "metadata": {
  "kernelspec": {
   "display_name": "Python 3",
   "language": "python",
   "name": "python3"
  },
  "language_info": {
   "codemirror_mode": {
    "name": "ipython",
    "version": 3
   },
   "file_extension": ".py",
   "mimetype": "text/x-python",
   "name": "python",
   "nbconvert_exporter": "python",
   "pygments_lexer": "ipython3",
   "version": "3.5.3"
  }
 },
 "nbformat": 4,
 "nbformat_minor": 2
}
