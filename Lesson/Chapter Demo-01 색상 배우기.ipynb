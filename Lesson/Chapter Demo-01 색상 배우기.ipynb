{
 "cells": [
  {
   "cell_type": "markdown",
   "metadata": {
    "deletable": false
   },
   "source": [
    "<img src=\"image/demo0/ZumiHeader.png\" width=700>"
   ]
  },
  {
   "cell_type": "markdown",
   "metadata": {
    "deletable": false
   },
   "source": [
    "# 색상 분류\n",
    "\n",
    "이 예제를 진행하려면 <font size=3> <span style=\"color:red\"> 데모 - 색상 배우기</span> <font size=3> 가 필요합니다!\n",
    "  \n",
    "<img src=\"image/demo0/demo_Color_Classification.png\" width=750>"
   ]
  },
  {
   "cell_type": "markdown",
   "metadata": {},
   "source": [
    "\n",
    "<font size =3> 색상을보고 구분할 수 있지만 컴퓨터도 이 작업을 수행 할 수 있다는 것을 알고 계셨습니까? 이 레슨에서는 특별한 알고리즘을 사용하여 주미에게 다양한 색상을 가르치는 방법을 배웁니다. 이것은 머신러닝 학습의 매우 기본적인 예이며 다음 세 단계로 요약 할 수 있습니다.\n",
    "\n",
    "* 데이터 수집\n",
    "* 모델 생성\n",
    "* 예측하기\n",
    "    \n",
    "주미의 카메라를 사용하여 좋아하는 색상의 많은 사진을 찍은 다음 색상 정보를 사용하여 각 색상에 라벨을 지정하는 코드를 실행합니다. 마지막 단계에서 모델을 테스트하고 주미가 각 색상에 다르게 반응하도록 코드를 작성할 수 있습니다!   \n",
    "    지금 주미에게 색상에 대해 가르쳐 봅시다. 색상 카드를 사용하면 편리합니다!\n",
    "!</font>\n",
    "\n",
    "<img src=\"image/demo0/color_activity_cards.png\" width=700>\n",
    "\n",
    "# 컴퓨터는 색상을 어떻게보고 해석합니까?\n",
    "<font size =3> 주미가 색상을 인식하도록 교육을 시작하기 전에 주미가 색상을 보는 방법을 배워야합니다. 우리가 색상을 보는 것과는 매우 다릅니다!\n",
    "\n",
    "## 이미지 란?\n",
    "<font size =3> 이미지는 픽셀 (화면을 구성하는 가장 기본이 되는 단위)이라고하는 작은 점의 배열로 구성됩니다. 픽셀은 단일 색상 또는 색상 조합 일 수 있으며 각 색상은 빨간색, 녹색 및 파란색이 얼마나 많은지를 정확하게 알려주는 일련의 세 숫자로 표시됩니다. 이를 RGB 값이라고하며 빨강, 녹색 및 파랑을 나타냅니다. 예를 들어, 빨간색은 많지 않지만 녹색과 파란색이 많기 때문에 아름다운 청록색 음영은 (27, 209, 197)처럼 보일 수 있습니다. RGB의 각 값은 0에서 255 사이 일 수 있으므로 각 색상에 대해 256 개의 값을 선택할 수 있습니다. 그 결과 256 ^ 3 또는 16,777,216 개의 다른 색상 조합이됩니다!\n",
    "\n",
    "## 행렬이란 무엇입니까?\n",
    "<font size =3> 각 픽셀은 숫자로 표시 될 수 있으므로 그림은 숫자로된 격자입니다. 이것은 인간과 컴퓨터가 이미지를 조금 다르게보기 시작하는 곳입니다. 인간은 우리가 물체를 인식할 때 색상과 모양을 보지만 컴퓨터는 매트릭스라고도하는 이러한 격자만을 봅니다. 각 숫자는 각 픽셀의 RGB 값을 나타냅니다. 다음과 같이 보입니다. </font>\n",
    "\n",
    "\n",
    "<img src=\"image/demo0/matriceszumi.png\" width=500> \n",
    "\n",
    "## RGB 대신 HSV 사용\n",
    "    \n",
    "<font size =3> \n",
    "    \n",
    "프로그램은 각 RGB 이미지를 HSV 색 공간으로 변환합니다. HSV는 색도, 채도 및 명도를 나타 냅니다.\n",
    "\n",
    "* **색도(HUE)** 는 일반적으로 0-360 범위이며 색상을 나타냅니다 (이 응용 프로그램에서는 0-180 범위).\n",
    "* **채도(Saturation)** 는 색상의 선명도입니다.\n",
    "* **명도(Value)** 는 색상이 얼마나 밝거나 어두운지를 나타냅니다.\n",
    "    \n",
    "컴퓨터 비전 응용 프로그램에서는 색상과 강도 값을 구분하므로 HSV 색 공간을 사용하는 것이 좋습니다. 이것은 그림자, 반사 및 기타 요인으로 인해 특정 색상이 매우 다르게 보일 수 있기 때문에 중요합니다. HSV 색 공간은 보다 정확한 결과를 위해 이를 고려합니다.</font>\n",
    "\n",
    "<img src=\"image/demo0/HSV_cylinder.png\" alt=\"hsv\" width=\"400\"/>"
   ]
  },
  {
   "cell_type": "markdown",
   "metadata": {
    "deletable": false
   },
   "source": [
    "## 연습 문제 : 주미에게 3가지 색상을 가르치기\n",
    "<font size=3> <span style=\"color:red\"> 데모 - 색상 배우기</span> <font size=3> 로 이동하여 주미 상자의 색상 카드 중에서 좋아하는 색상 3 개를 선택합니다. 주미가 각 색상을 그래프에 3D 좌표 (색도, 채도 및 명도)로 어떻게 표시하는지 관찰합니다. 주미가 색상을 올바르게 예측하고 있다고 생각하십니까?\n",
    "완료되면 기억하기 쉬운 프로젝트 이름으로 모델을 저장해주세요. 다음 섹션에서 사용할 것이므로 모든 라벨 이름과 함께 기록해 두십시오.\n",
    "\n",
    "## 모델 불러오기\n",
    "<font size=3> 머신 러닝의 가장 큰 장점은 모델을 저장하면 다시 사용할 수 있다는 것입니다! 이전 활동에서 주미에게 가르치기 위해 가장 좋아하는 세 가지 색상을 선택했습니다. 이제 파이썬 코드를 사용하여 모델을 로드하고 주미가 각 색상에 다르게 반응하도록합니다!\n",
    "\n",
    "### 라이브러리 가져 오기\n",
    "<font size=3> 운전, 카메라 및 색상 분류에 필요한 기능을 사용하려면 다음 라이브러리를 가져 오십시오."
   ]
  },
  {
   "cell_type": "code",
   "execution_count": null,
   "metadata": {},
   "outputs": [],
   "source": [
    "from zumi.zumi import Zumi\n",
    "from zumi.util.camera import Camera\n",
    "from zumi.util.screen import Screen\n",
    "from zumi.util.color_classifier import ColorClassifier\n",
    "import time\n",
    "\n",
    "camera = Camera()\n",
    "screen = Screen()\n",
    "zumi = Zumi()"
   ]
  },
  {
   "cell_type": "markdown",
   "metadata": {},
   "source": [
    "### 모델 불러오기\n",
    "<font size=3> 모델을로드하려면 ColorClassifier 라이브러리에서  <font face=\"Courier\"> load_model () </font>. 함수를 호출합니다. 이 함수에는 프로젝트 이름을 매개 변수로 사용합니다. 프로젝트 이름을 기억하십니까? 아래 따옴표 안에 사용자 이름과 프로젝트이름을 입력하고 올바른지 확인하십시오. 존재하지 않으면 오류가 발생합니다."
   ]
  },
  {
   "cell_type": "markdown",
   "metadata": {},
   "source": [
    "<font size=3> <span style=\"color:red\"> 2.21버젼 이하에서는 모델을 불러오는 기능에 오류가 있습니다. 다음 업데이트에 수정될 예정입니다.</span> <font size=3>"
   ]
  },
  {
   "cell_type": "code",
   "execution_count": null,
   "metadata": {},
   "outputs": [],
   "source": [
    "user_name = ''\n",
    "demo_name = ''"
   ]
  },
  {
   "cell_type": "code",
   "execution_count": null,
   "metadata": {},
   "outputs": [],
   "source": [
    "knn = ColorClassifier(user_name=user_name)\n",
    "train = knn.load_model(demo_name)\n",
    "knn.fit(\"hsv\")"
   ]
  },
  {
   "cell_type": "markdown",
   "metadata": {},
   "source": [
    "<font size=3>  모델을 성공적으로 불러오면 테스트 할 수 있습니다. 아래 코드를 실행하고 주미에게 표시 할 색상 카드를 선택하세요.  \n",
    "준비가되면 \"Enter\" 키를 눌러 화면에서 결과를 확인합니다. 스크린 화면에 분류된 색상 이름이 표시됩니다.  \n",
    "    \"q\"를 누르면 카메라를 끄고 프로그램이 종료됩니다.."
   ]
  },
  {
   "cell_type": "code",
   "execution_count": null,
   "metadata": {},
   "outputs": [],
   "source": [
    "camera.start_camera()\n",
    "\n",
    "while True:\n",
    "        user_input = input(\"Press 'enter' to predict or 'q to quit: \")\n",
    "\n",
    "        if user_input == \"q\":\n",
    "            break\n",
    "            \n",
    "        image = camera.capture()\n",
    "        predict = knn.predict(image)\n",
    "        screen.draw_text_center(predict)\n",
    "\n",
    "camera.close()"
   ]
  }
 ],
 "metadata": {
  "kernelspec": {
   "display_name": "Python 3",
   "language": "python",
   "name": "python3"
  },
  "language_info": {
   "codemirror_mode": {
    "name": "ipython",
    "version": 3
   },
   "file_extension": ".py",
   "mimetype": "text/x-python",
   "name": "python",
   "nbconvert_exporter": "python",
   "pygments_lexer": "ipython3",
   "version": "3.5.3"
  }
 },
 "nbformat": 4,
 "nbformat_minor": 2
}
