{
 "cells": [
  {
   "cell_type": "markdown",
   "metadata": {},
   "source": [
    "<img src=\"image/ai0/Title_Color_Object_Tracking.png\" width=1000>"
   ]
  },
  {
   "cell_type": "markdown",
   "metadata": {},
   "source": [
    "# 색상 인식 기반으로 물체를 추적하기"
   ]
  },
  {
   "cell_type": "markdown",
   "metadata": {},
   "source": [
    "<br>\n",
    "\n",
    "## 1. import  - 모듈 가져오기   \n",
    "이 셀은 색상 인식 기반으로 물체를 추적하기 위한 구성 요소를 가져옵니다."
   ]
  },
  {
   "cell_type": "code",
   "execution_count": null,
   "metadata": {},
   "outputs": [],
   "source": [
    "from zumi.zumi import Zumi\n",
    "import time\n",
    "\n",
    "zumi = Zumi()\n",
    "\n",
    "from module.object_tracking import ObjectTracking\n",
    "\n",
    "from zumi.util.camera import Camera\n",
    "import IPython.display\n",
    "import PIL.Image\n",
    "import time\n",
    "\n",
    "camera = Camera()\n",
    "objectTracking = ObjectTracking()"
   ]
  },
  {
   "cell_type": "markdown",
   "metadata": {},
   "source": [
    "<br>\n",
    "\n",
    "## 2. 색상 등록   \n",
    "주미의 카메라에 원하는 물체의 색상을 카메라 화면의 가운데로 위치하도록 합니다."
   ]
  },
  {
   "cell_type": "code",
   "execution_count": null,
   "metadata": {},
   "outputs": [],
   "source": [
    "try:\n",
    "    camera.start_camera()\n",
    "    \n",
    "    time_out = 3 # 입력한 시간 동안 등록\n",
    "    time_start = time.time()\n",
    "    time_elapsed = 0\n",
    "    \n",
    "    print(\"원하는 색깔의 물체를 가운데로 위치 시켜주세요.\")\n",
    "    time.sleep(1)\n",
    "    \n",
    "    while time_elapsed < time_out:   \n",
    "        time_elapsed = time.time()-time_start\n",
    "                \n",
    "        frame = camera.capture()    # 사진을 촬영합니다.\n",
    "        frame = objectTracking.register_color(frame)  # 사진의 중심점의 색상을 구합니다.\n",
    "                \n",
    "        IPython.display.display(PIL.Image.fromarray(frame))    \n",
    "        \n",
    "        print(\"등록 \" + str(time_out - int(time_elapsed)) + \" 초 전\")\n",
    "        IPython.display.clear_output(wait=True) \n",
    "        \n",
    "    IPython.display.display(PIL.Image.fromarray(frame))      \n",
    "    print(\"등록이 완료되었습니다.\") \n",
    "                \n",
    "finally:\n",
    "    camera.close()"
   ]
  },
  {
   "cell_type": "markdown",
   "metadata": {},
   "source": [
    "<img src=\"image/ai0/color_Object_Tracking_01.png\" width=500>   "
   ]
  },
  {
   "cell_type": "markdown",
   "metadata": {},
   "source": [
    "<br>\n",
    "\n",
    "## 3. 물체 추적\n",
    "추적된 물체는 화면에 표시되며, 좌표를 받아 올수도 있습니다.\n",
    "\n",
    "* `인식하려는 장수의 주변 배경에 비슷한 색이 있다면 인식이 어려울 수 있습니다`\n",
    "* 한번 시작하게 되면 이 셀은 영원히 실행될 것입니다. 이때 두 번째 툴바에서 “Stop”버튼 ■ 을 누른다면 종료할 수 있습니다"
   ]
  },
  {
   "cell_type": "code",
   "execution_count": null,
   "metadata": {},
   "outputs": [],
   "source": [
    "try:    \n",
    "    camera.start_camera()\n",
    "    \n",
    "    print(\"추적을 시작합니다.\")     \n",
    "    time.sleep(1)\n",
    "    \n",
    "    while True:\n",
    "        frame = camera.capture()    # 사진을 촬영합니다.\n",
    "        \n",
    "        # 물체의 좌표 추적하기\n",
    "        frame = objectTracking.color_tracking(frame)  # 등록된 색상과 같은 색의 오브젝트를 추적합니다.\n",
    "        \n",
    "        IPython.display.display(PIL.Image.fromarray(frame))   \n",
    "        \n",
    "        # 물체의 좌표 가져오기 (감지 되지 않은 경우 -1 반환)\n",
    "        x, y = objectTracking.object_location()\n",
    "        print(x,y)\n",
    "        \n",
    "        # 물체의 크기 가져오기 (크기 = 가로 x 세로 픽셀, 감지 되지 않은 경우 -1 반환)\n",
    "        area = objectTracking.object_area()\n",
    "        print(area)\n",
    "                       \n",
    "        IPython.display.clear_output(wait=True)           \n",
    "finally:\n",
    "    camera.close()       "
   ]
  },
  {
   "cell_type": "markdown",
   "metadata": {},
   "source": [
    "<img src=\"image/ai0/color_Object_Tracking_02.png\" width=350>   "
   ]
  },
  {
   "cell_type": "markdown",
   "metadata": {},
   "source": [
    "<br>\n",
    "\n",
    "## 4. 물체의 거리에 따라 이동\n",
    "카메라에 인식된 물체는 거리에 따라서 크기가 다르게 인식됩니다.   \n",
    "이 크기가 작다면 물체와 멀어졌다고 생각하여 주미가 앞으로 이동하게 됩니다.\n",
    "\n",
    "* 한번 시작하게 되면 이 셀은 영원히 실행될 것입니다. 이때 두 번째 툴바에서 “Stop”버튼 ■ 을 누른다면 종료할 수 있습니다"
   ]
  },
  {
   "cell_type": "code",
   "execution_count": null,
   "metadata": {},
   "outputs": [],
   "source": [
    "\n",
    "try:    \n",
    "    zumi = Zumi()\n",
    "    camera.start_camera()\n",
    "    \n",
    "    print(\"추적을 시작합니다.\")     \n",
    "    time.sleep(1)\n",
    "    \n",
    "    while True:\n",
    "        frame = camera.capture()    # 사진을 촬영합니다.\n",
    "        \n",
    "        # 물체의 좌표 추적하기\n",
    "        frame = objectTracking.color_tracking(frame)  # 등록된 색상과 같은 색의 오브젝트를 추적합니다.\n",
    "        \n",
    "        IPython.display.display(PIL.Image.fromarray(frame))   \n",
    "        \n",
    "        # 물체의 좌표 가져오기 (감지 되지 않은 경우 -1 반환)\n",
    "        x, y = objectTracking.object_location()\n",
    "        print(x,y)\n",
    "        \n",
    "        # 물체의 크기 가져오기 (감지 되지 않은 경우 -1 반환)\n",
    "        area = objectTracking.object_area()\n",
    "        print(area)\n",
    "        \n",
    "        #넓이 최소, 최대 값         \n",
    "        area_min = 2000\n",
    "        area_max = 7000\n",
    "        \n",
    "        # 색상이 감지되었는지 확인\n",
    "        if area != -1:\n",
    "            \n",
    "            # 색상의 넓이가 일정범위보다 작다면 이동 (색깔과 거리가 멀어지면 이동) \n",
    "            if area < area_max: # 넓이가 최대 값보다 작을 때\n",
    "                \n",
    "                if area > area_min: # 넓이가 작은 경우는 무시하도록 최소 값보다 클 때\n",
    "                    print(\"go\")\n",
    "                    zumi.forward()                \n",
    "                \n",
    "        IPython.display.clear_output(wait=True)  \n",
    "        \n",
    "finally:\n",
    "    camera.close()\n",
    "    zumi.stop()\n",
    "    "
   ]
  },
  {
   "cell_type": "markdown",
   "metadata": {},
   "source": [
    "<img src=\"image/ai0/color_Object_Tracking_03.png\" width=500>   "
   ]
  },
  {
   "cell_type": "markdown",
   "metadata": {},
   "source": [
    "<br>\n",
    "\n",
    "## 5. 물체의 방향으로 회전하기\n",
    "카메라에 인식된 물체는 화면상에 좌표로 나타낼 수 있습니다.   \n",
    "화면의 중앙을 기준으로 물체의 좌우 위치에 따라 주미가 회전합니다.\n",
    "\n",
    "* 한번 시작하게 되면 이 셀은 영원히 실행될 것입니다. 이때 두 번째 툴바에서 “Stop”버튼 ■ 을 누른다면 종료할 수 있습니다"
   ]
  },
  {
   "cell_type": "code",
   "execution_count": null,
   "metadata": {},
   "outputs": [],
   "source": [
    "try:    \n",
    "    zumi = Zumi()    \n",
    "    camera.start_camera()\n",
    "    \n",
    "    print(\"추적을 시작합니다.\")     \n",
    "    time.sleep(1)\n",
    "    \n",
    "    while True:\n",
    "        frame = camera.capture()    # 사진을 촬영합니다.\n",
    "        \n",
    "        # 물체의 좌표 추적하기\n",
    "        frame = objectTracking.color_tracking(frame)  # 등록된 색상과 같은 색의 오브젝트를 추적합니다.\n",
    "        \n",
    "        IPython.display.display(PIL.Image.fromarray(frame))   \n",
    "        \n",
    "        # 물체의 좌표 가져오기 (감지 되지 않은 경우 -1 반환)\n",
    "        # 왼쪽 모서리 기준\n",
    "        # x = 0 ~ 160\n",
    "        # y = 0 ~ 128\n",
    "        x, y = objectTracking.object_location()\n",
    "        print(x,y)\n",
    "        \n",
    "        # 물체의 크기 가져오기 (감지 되지 않은 경우 -1 반환)\n",
    "        area = objectTracking.object_area()\n",
    "        print(area)\n",
    "\n",
    "        # 넓이 최소 값 \n",
    "        area_min = 2000\n",
    "        \n",
    "        # 화면의 중심점 구하기 (이미지의 가로와 세로 길이를 절반으로 나누어 구합니다.)\n",
    "        height, width, channels = frame.shape   \n",
    "        width = width/2\n",
    "        height = height/2\n",
    "        \n",
    "        # 이미지가 중앙위치에서 + x_offset, - x_offset 위치 내에 표시 \n",
    "        x_offset = 5  # (x가 75 ~ 85 내에 위치되도록 함)\n",
    "        \n",
    "        # 오브젝트의 위치를 따라서 주미가 회전합니다.\n",
    "        if area != -1:\n",
    "            \n",
    "            if area > area_min: # 넓이가 작은 경우는 무시하도록 일정크기이상에서 작동\n",
    "    \n",
    "                # 현재 오브젝트의 x 축 위치에 따라 주미의 각도를 조정\n",
    "                # x가 중앙 점위치보다 작을 때 오른쪽으로 회전\n",
    "                if  x < width - x_offset : \n",
    "                    print(\"turn right\")\n",
    "                    zumi.turn_right(5)          \n",
    "                    \n",
    "                # x가 중앙 점위치보다 클 때 왼쪽으로 회전 \n",
    "                elif x > width + x_offset:  \n",
    "                    print(\"turn left\")\n",
    "                    zumi.turn_left(5)      \n",
    "                \n",
    "        IPython.display.clear_output(wait=True)  \n",
    "        \n",
    "finally:\n",
    "    camera.close()\n",
    "    zumi.stop()\n",
    "    "
   ]
  },
  {
   "cell_type": "markdown",
   "metadata": {},
   "source": [
    "<img src=\"image/ai0/color_Object_Tracking_04.png\" width=470>   "
   ]
  },
  {
   "cell_type": "markdown",
   "metadata": {},
   "source": [
    "<br>\n",
    "\n",
    "## 6. 오브젝트의 위치로 이동하기\n",
    "인식된 물체의 크기와 X,Y 좌표 위치를 사용하여 물체의 위치로 이동합니다.\n",
    "\n",
    "* 한번 시작하게 되면 이 셀은 영원히 실행될 것입니다. 이때 두 번째 툴바에서 “Stop”버튼 ■ 을 누른다면 종료할 수 있습니다"
   ]
  },
  {
   "cell_type": "code",
   "execution_count": null,
   "metadata": {},
   "outputs": [],
   "source": [
    "try:    \n",
    "    zumi = Zumi()\n",
    "    ang_z = zumi.read_z_angle()\n",
    "\n",
    "    camera.start_camera()\n",
    "    \n",
    "    print(\"추적을 시작합니다.\")     \n",
    "    time.sleep(1)\n",
    "    \n",
    "    while True:\n",
    "        frame = camera.capture()    # 사진을 촬영합니다.\n",
    "        \n",
    "        # 물체의 좌표 추적하기\n",
    "        frame = objectTracking.color_tracking(frame)  # 등록된 색상과 같은 색의 오브젝트를 추적합니다.\n",
    "        \n",
    "        IPython.display.display(PIL.Image.fromarray(frame))   \n",
    "        \n",
    "        # 물체의 좌표 가져오기 (감지 되지 않은 경우 -1 반환)\n",
    "        # 왼쪽 모서리 기준\n",
    "        # x = 0 ~ 160\n",
    "        # y = 0 ~ 128\n",
    "        x, y = objectTracking.object_location()\n",
    "        print(x,y)\n",
    "        \n",
    "        # 물체의 크기 가져오기 (감지 되지 않은 경우 -1 반환)\n",
    "        area = objectTracking.object_area()\n",
    "        print(area)\n",
    "        \n",
    "        # 화면의 중심점 구하기\n",
    "        height, width, channels = frame.shape   \n",
    "        width = width/2\n",
    "        height = height/2\n",
    "        \n",
    "        # 이미지가 표시하게될 위치\n",
    "        # 중앙위치에서 +5, -5 만큼 \n",
    "        x_offset = 5 \n",
    "        \n",
    "        # 넓이 최소 최대 값 \n",
    "        area_max = 7000\n",
    "        area_min = 2000\n",
    "                        \n",
    "        # 오브젝트의 위치를 따라서 주미가 회전합니다.\n",
    "        if area != -1:\n",
    "                                                         \n",
    "            if area > area_min: # 넓이가 최소값보다 작은 경우는 무시하도록 일정크기이상에서 작동\n",
    "\n",
    "                # 현재 오브젝트의 x 축 위치에 따라 주미의 각도를 조정\n",
    "                               \n",
    "                # x가 중앙 점위치보다 작을 때 오른쪽으로 회전\n",
    "                if  x < width - x_offset :                      \n",
    "                    print(\"turn right\")\n",
    "                    # 원하는 각도와 현재위치 각도 차이에 따라 회전 각도를 조절합니다.\n",
    "                    if(width - x_offset - x > 20):  # 각도가 20도 이상 차이가 나는 경우                      \n",
    "                        zumi.turn_right(5)                    \n",
    "                    else:\n",
    "                        zumi.turn_right(2)\n",
    "                        \n",
    "                # x가 중앙 점위치보다 클 때 왼쪽으로 회전\n",
    "                elif x > width + x_offset:                      \n",
    "                    print(\"turn left\")\n",
    "                    # 원하는 각도와 현재위치 각도 차이에 따라 회전 각도를 조절합니다.    \n",
    "                    if(x - width + x_offset > 20): # 각도가 20도 이상 차이가 나는 경우    \n",
    "                        zumi.turn_left(5)                    \n",
    "                    else:\n",
    "                        zumi.turn_left(2)   \n",
    "                        \n",
    "                # 물체와 거리가 멀다면(물체 크기가 작다면) 직진        \n",
    "                else:                    \n",
    "                    if area < area_max: # 넓이가 설정한 값보다 작을 때\n",
    "                        print(\"go\")\n",
    "                        # 현재 주미가 바로보는 방향으로 직진합니다.\n",
    "                        ang_z = zumi.read_z_angle()\n",
    "                        zumi.go_straight(speed = 1,desired_angle = ang_z)      \n",
    "                        \n",
    "                    else:\n",
    "                        print(\"stop\")\n",
    "                        zumi.stop()\n",
    "        else:\n",
    "            print(\"stop\")\n",
    "            zumi.stop()\n",
    "                \n",
    "        IPython.display.clear_output(wait=True)  \n",
    "        \n",
    "finally:\n",
    "    camera.close()\n",
    "    zumi.stop()    "
   ]
  },
  {
   "cell_type": "markdown",
   "metadata": {},
   "source": [
    "<img src=\"image/ai0/color_Object_Tracking_05.png\" width=1100>   "
   ]
  },
  {
   "cell_type": "markdown",
   "metadata": {},
   "source": [
    "<br>\n",
    "\n",
    "## 물체를 따라서 주행하기\n",
    "주미에게 빨간색을 인식시키고 탁구채에 따라 움직이게 해 봅니다.\n",
    "[색상 인식 주행](image/ai0/color_Object_Tracking_06.png)"
   ]
  },
  {
   "cell_type": "markdown",
   "metadata": {},
   "source": [
    "<img src=\"image/ai0/color_Object_Tracking_06.png\" width=800>   "
   ]
  }
 ],
 "metadata": {
  "kernelspec": {
   "display_name": "Python 3",
   "language": "python",
   "name": "python3"
  },
  "language_info": {
   "codemirror_mode": {
    "name": "ipython",
    "version": 3
   },
   "file_extension": ".py",
   "mimetype": "text/x-python",
   "name": "python",
   "nbconvert_exporter": "python",
   "pygments_lexer": "ipython3",
   "version": "3.5.3"
  }
 },
 "nbformat": 4,
 "nbformat_minor": 2
}
