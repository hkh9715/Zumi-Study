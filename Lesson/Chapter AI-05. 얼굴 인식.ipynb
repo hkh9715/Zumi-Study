{
 "cells": [
  {
   "cell_type": "markdown",
   "metadata": {},
   "source": [
    "<img src=\"image/ai0/Title_Face_Recognition.png\" width=1000>"
   ]
  },
  {
   "cell_type": "markdown",
   "metadata": {},
   "source": [
    "<br>\n",
    "\n",
    "## 1. import  - 모듈 가져오기\n",
    "이 셀은 얼굴 인식 데모를 위한 구성 요소를 가져옵니다."
   ]
  },
  {
   "cell_type": "code",
   "execution_count": null,
   "metadata": {},
   "outputs": [],
   "source": [
    "import module.recognition as demo"
   ]
  },
  {
   "cell_type": "markdown",
   "metadata": {},
   "source": [
    "<br>\n",
    "\n",
    "## 2. collect - 사진 수집\n",
    "이 셀은 주미의 카메라를 작동시켜 주미가 얼굴 사진들을 찍을 수 있도록 합니다.  \n",
    "* 이름을 입력합니다.(한글로 입력하면 주미 화면에 이름이 표시 되지 않습니다.)  \n",
    "* 촬영할 사진의 갯수를 정합니다. (많이 찍을수록 정확도가 올라갑니다. 50장 추천)  \n",
    "* 주미의 카메라를 쳐다보도록 합니다. 다만 이때 주미가 여러분의 얼굴을 볼 수 있도록 충분한 공간을 두도록 하세요!  \n",
    "* 주미가 여러분의 얼굴을 보고 나면, 주미는 사진을 찍고 나중을 위해 저장할 것입니다. "
   ]
  },
  {
   "cell_type": "code",
   "execution_count": null,
   "metadata": {},
   "outputs": [],
   "source": [
    "name = input(\"이름을 입력하세요 : \")\n",
    "number_of_photo = input(\"몇 장을 찍을까요? : \")\n",
    "\n",
    "demo.collectPictures(name, number_of_photo)"
   ]
  },
  {
   "cell_type": "markdown",
   "metadata": {},
   "source": [
    "<img src=\"image/ai0/face_recognition_01.png\" width=415>\n",
    "\n",
    "* 이 부분을 진행시키면 셀의 실행 결과 부분과 주미의 OLED 스크린에 카메라 화면이 나옵니다.  \n",
    "* 주미 카메라로 얼굴 사진을 촬영합니다.  \n",
    "* 얼굴 사진이 촬영되면 Progress의 숫자가 올라갑니다. `Progress : 50/50`이 될 때까지 계속해서 얼굴 사진을 촬영합니다.  \n",
    "* `Progress : 50/50`이 되면 얼굴 사진 촬영이 종료되고 주미의 카메라가 꺼집니다.  "
   ]
  },
  {
   "cell_type": "markdown",
   "metadata": {},
   "source": [
    "<br>\n",
    "\n",
    "## 3. train  - 모델 학습\n",
    "* 수집한 사진을 바탕으로 훈련합니다. \n",
    "* 주미가 충분한 얼굴 사진들을 가지게되면, 주미는 다양한 얼굴을 배워 분류하는데 시간을 필요로 할 것입니다.  \n",
    "* 컴퓨터 언어에서, 이 프로세스를 \"학습\"이라고 부릅니다.  \n",
    "* 이 교육의 목적은“모델\"을 만드는 것이며, 이 모델은 다음 단계에서 주미가 배운 얼굴들을 인식하는데 활용될 것입니다.  "
   ]
  },
  {
   "cell_type": "code",
   "execution_count": null,
   "metadata": {},
   "outputs": [],
   "source": [
    "demo.trainModel()"
   ]
  },
  {
   "cell_type": "markdown",
   "metadata": {},
   "source": [
    "<br>\n",
    "\n",
    "## 4. run - 모델 실행  \n",
    "얼굴 인식을 테스트 합니다.\n",
    "\n",
    "* 주미 카메라가 동작을 합니다.   \n",
    "* 주미 카메라에 얼굴이 나오도록 비추면 흰색테두리가 생기고 그 위에 이름이 표시됩니다.   \n",
    "* 한번 시작하게 되면 이 셀은 영원히 실행될 것입니다. 이때 두 번째 툴바에서 “Stop”버튼 `■` 을 누른다면 종료할 수 있습니다."
   ]
  },
  {
   "cell_type": "code",
   "execution_count": null,
   "metadata": {},
   "outputs": [],
   "source": [
    "demo.runModel()"
   ]
  },
  {
   "cell_type": "markdown",
   "metadata": {},
   "source": [
    "<br>\n",
    "\n",
    "## 다양한 얼굴 인식\n",
    "사진이나 스마트폰, PC 등에서 사람 이미지를 검색하여 주미에게 학습시켜 봅니다."
   ]
  },
  {
   "cell_type": "markdown",
   "metadata": {},
   "source": [
    "<img src=\"image/ai0/face_recognition_02.png\" width=1000>"
   ]
  },
  {
   "cell_type": "markdown",
   "metadata": {},
   "source": [
    "<br>\n",
    "\n",
    "## 얼굴 그림 인식\n",
    "실제 사람이 아니더라도 주미는 얼굴을 인식할까요?   \n",
    "다음 사람들의 얼굴과 이름을 주미에게 학습시켜 봅니다."
   ]
  },
  {
   "cell_type": "markdown",
   "metadata": {},
   "source": [
    "[얼굴 이미지](image/ai0/face_recognition_03.png)\n",
    "<img src=\"image/ai0/face_recognition_03.png\" width=1047>"
   ]
  },
  {
   "cell_type": "markdown",
   "metadata": {},
   "source": [
    "<br>\n",
    "\n",
    "## delete - 모든 데이터 세트 삭제\n",
    "입력한 모든 데이터를 삭제합니다.  \n",
    "* 이 셀을 실행하여 주미의 모든 모델들을 삭제하도록 합니다.\n"
   ]
  },
  {
   "cell_type": "code",
   "execution_count": null,
   "metadata": {},
   "outputs": [],
   "source": [
    "demo.deleteAllDatasets()"
   ]
  }
 ],
 "metadata": {
  "kernelspec": {
   "display_name": "Python 3",
   "language": "python",
   "name": "python3"
  },
  "language_info": {
   "codemirror_mode": {
    "name": "ipython",
    "version": 3
   },
   "file_extension": ".py",
   "mimetype": "text/x-python",
   "name": "python",
   "nbconvert_exporter": "python",
   "pygments_lexer": "ipython3",
   "version": "3.5.3"
  }
 },
 "nbformat": 4,
 "nbformat_minor": 2
}
