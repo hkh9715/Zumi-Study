{
 "cells": [
  {
   "cell_type": "markdown",
   "metadata": {},
   "source": [
    "<img src=\"image/Title.png\" width=1000>"
   ]
  },
  {
   "cell_type": "markdown",
   "metadata": {},
   "source": [
    "## 문자열 놀이하기\n",
    "파이썬에서 키보드로 데이터 값을 입력 받는 방법을 알아보고, 문자열에는 생각보다 다양한 기능이 숨어 있습니다. 문자열을 다양한 함수를 사용하면서 문자열에 대해 좀 더 자세히 알아보겠습니다."
   ]
  },
  {
   "cell_type": "markdown",
   "metadata": {},
   "source": [
    "## Step 1 : 키보드 입력\n",
    "`input()` 함수는 사용자로부터 키보드 데이터 값 입력을 받아들여 프로그램에 전달하는 명령어입니다.<br>\n",
    "* input(\"문자열\")\n",
    "\n",
    "#### 셀 창에 입력\n",
    "셀 창에 `이름을 입력하세요 : `라는 문구가 출력되고 사용자가 키보드로 데이터 값을 입력하고 엔터키를 누를 때까지 컴퓨터가 기다립니다.<br>\n",
    "컴퓨터는 input( )을 통해 얻은 사용자의 데이터 값이 자동으로 기억하지 않습니다. 그래서 기억할 수 있게 변수를 사용해야 합니다.\n",
    "\n",
    "\n",
    "#### 셀 창에 출력\n",
    "사용자가 입력한 데이터 값이 변수 `name`에 저장되어 화면에 출력됩니다."
   ]
  },
  {
   "cell_type": "code",
   "execution_count": 1,
   "metadata": {},
   "outputs": [
    {
     "name": "stdout",
     "output_type": "stream",
     "text": [
      "이름을 입력하세요 : Leemyoungbak\n",
      "이름 : Leemyoungbak\n"
     ]
    }
   ],
   "source": [
    "# 이름을 입력하세요 : 메시지를 출력하여 이름을 키보드로 입력받아 출력해 보세요.\n",
    "name = input(\"이름을 입력하세요 : \")\n",
    "\n",
    "print(\"이름 :\", name)"
   ]
  },
  {
   "cell_type": "markdown",
   "metadata": {},
   "source": [
    "#### 여러 개 입력\n",
    "여러 개의 input() 함수를 사용하여 데이터 값 입력을 받습니다."
   ]
  },
  {
   "cell_type": "code",
   "execution_count": null,
   "metadata": {},
   "outputs": [],
   "source": [
    "# 이름을 입력해 주세요 :\n",
    "# 학교를 입력해 주세요 : 메시지를 출력한 후\n",
    "# 이름과 학교명을 키보드로 입력받아 출력해 보세요.\n",
    "print(\"파이썬의 세계에 오신 것을 환영합니다.\")\n",
    "\n",
    "name = input(\"이름을 입력하세요 : \")\n",
    "school = input(\"학교명을 입력하세요 : \")\n",
    "\n",
    "print(school + \"의\" + name + \"님 반갑습니다.\")\n",
    "print(\"파이썬 마스터가 될 수 있도록 힘내세요!\")"
   ]
  },
  {
   "cell_type": "markdown",
   "metadata": {},
   "source": [
    "#### 두 개의 숫자를 입력받기\n",
    "input() 함수를 사용하여 두 개의 숫자를 입력받아 더하기를 해봅니다. <br>\n",
    "입력한 데이터 값이 그대로 붙여서 출력하는 것을 알 수 있습니다. 마치 문자열을 더하기 한 것입니다."
   ]
  },
  {
   "cell_type": "code",
   "execution_count": null,
   "metadata": {},
   "outputs": [],
   "source": [
    "# 정수를 입력하여 출력된 결과값을 확인해 보세요.\n",
    "a = input(\"첫 번째 숫자를 입력하세요 : \")\n",
    "b = input(\"두 번째 숫자를 입력하세요 : \")\n",
    "\n",
    "print(\"두 수의 합은 =\", a+b)"
   ]
  },
  {
   "cell_type": "markdown",
   "metadata": {},
   "source": [
    "#### 입력된 데이터 형을 확인해 봅니다.\n",
    "input() 명령으로 입력 받은 데이터 값의 데이터 형은 무엇일까요? <br>\n",
    "데이터 협을 확인해 봅니다."
   ]
  },
  {
   "cell_type": "code",
   "execution_count": null,
   "metadata": {},
   "outputs": [],
   "source": [
    "# 키보드로 입력받은 값의 데이터 형을 출력해 보세요.\n",
    "a = input(\"첫 번째 숫자를 입력하세요 : \")\n",
    "b = input(\"두 번째 숫자를 입력하세요 : \")\n",
    "\n",
    "print(a, )\n",
    "print(b, )"
   ]
  },
  {
   "cell_type": "markdown",
   "metadata": {},
   "source": [
    "#### 입력 데이터 정수형 바꾸기   \n",
    "input( ) 명령을 이용해 변수에 저장된 값은 `문자형`입니다. 숫자를 입력해도 파이썬은 항상 `문자형`으로 취급을 합니다. <br>\n",
    "지금부터는 입력 받은 값을 정수형으로 바꾸는 방법을 알아봅시다.\n"
   ]
  },
  {
   "cell_type": "code",
   "execution_count": null,
   "metadata": {},
   "outputs": [],
   "source": [
    "# 키보드로 입력되는 데이터 값을 정수 데이터 형으로 바꿔 두 수의 합을 출력해 보세요.\n",
    "a = \n",
    "b = \n",
    "\n",
    "print(\"두 수의 합은 =\", a+b)"
   ]
  },
  {
   "cell_type": "markdown",
   "metadata": {},
   "source": [
    "#### 입력 데이터 실수형 바꾸기   \n",
    "변수의 데이터 형태를 바꾸기 위해 사용하였던 float()를 이용하여, 입력 받은 값을 실수형으로 바꿀 수 있습니다.\n"
   ]
  },
  {
   "cell_type": "code",
   "execution_count": null,
   "metadata": {},
   "outputs": [],
   "source": [
    "# 키를 입력하세요 :\n",
    "# 시력을 입력하세요 : 메시지를 출력한 후\n",
    "# 키보드로 입력되는 데이터 값을 실수 데이터 형으로 바꿔 키와 시력을 출력해 보세요.\n",
    "height = \n",
    "eye = \n",
    "\n",
    "print(\"키 :\", height, \"시력 :\", eye)"
   ]
  },
  {
   "cell_type": "markdown",
   "metadata": {},
   "source": [
    "## Step 2 : 문자열 연산\n",
    "`더하기(+)` 연산자를 사용하여 문자열을 더하면, 하나로 합쳐진 문자열로 바뀝니다.<br>\n"
   ]
  },
  {
   "cell_type": "code",
   "execution_count": null,
   "metadata": {},
   "outputs": [],
   "source": [
    "#문자 변수에 기억된 값을 더하기(+) 연산자를 사용하여 출력해 보세요.\n",
    "a = 'RoboRobo'\n",
    "b = 'Zumi'\n",
    "c = 'Python'\n",
    "d = \n",
    "\n",
    "print(d)"
   ]
  },
  {
   "cell_type": "markdown",
   "metadata": {},
   "source": [
    "`곱하기(*)` 연산자를 사용하여 문자열을 곱한 수만큼 반복하여 문자열로 바뀝니다."
   ]
  },
  {
   "cell_type": "code",
   "execution_count": null,
   "metadata": {},
   "outputs": [],
   "source": [
    "#문자 변수에 기억된 값을 곱하기(*) 연산자를 사용하여 출력해 보세요.\n",
    "a = '-'\n",
    "b = \n",
    "\n",
    "print(b)"
   ]
  },
  {
   "cell_type": "markdown",
   "metadata": {},
   "source": [
    "## Step 3 : 문자열 인덱싱\n",
    "인덱싱은 문자열을 구성하는 각 문자에 번호를 매기고, 이 번호를 이용해 특정 위치의 문자를 가져오는 것입니다. 문자의 일부를 꺼낼 때 쓰는 `브래킷([ ])`을 이용하여 글자를 꺼내볼까요?<br><br>\n",
    "컴퓨터는 사람과 다르게 숫자를 0부터 셉니다. 그래서 두 번째 문자가 1번, 세 번째 문자가 2번 인식으로 됩니다.<br>\n",
    "'Python'이라는 문자열은 6문자이므로 `0 ~ 5`로 번호를 매깁니다. <br>\n",
    "파이썬의 특수 기능으로 마이너스 인덱스를 사용할 수도 있습니다. 맨 끝에서부터 셀 때는 -1로 번호를 매기므로 `-1 ~ -6`을 사용합니다.\n"
   ]
  },
  {
   "cell_type": "code",
   "execution_count": null,
   "metadata": {},
   "outputs": [],
   "source": [
    "# Python 출력해 보세요.\n",
    "a = 'Python'\n",
    "print()"
   ]
  },
  {
   "cell_type": "code",
   "execution_count": 6,
   "metadata": {},
   "outputs": [
    {
     "name": "stdout",
     "output_type": "stream",
     "text": [
      "h\n"
     ]
    }
   ],
   "source": [
    "# h 출력해 보세요.\n",
    "a = 'Python'\n",
    "print(a[3])"
   ]
  },
  {
   "cell_type": "code",
   "execution_count": null,
   "metadata": {},
   "outputs": [],
   "source": [
    "# n 출력해 보세요.\n",
    "a = 'Python'\n",
    "print(a[])"
   ]
  },
  {
   "cell_type": "markdown",
   "metadata": {},
   "source": [
    "#### 문자열 슬라이싱\n",
    "슬라이싱은 앞서 배운 인덱싱 기능을 이용하여 문자열의 일부분을 잘라내는 것입니다. 'Python' 문자열을 슬라이싱 해봅시다.\n"
   ]
  },
  {
   "cell_type": "code",
   "execution_count": 7,
   "metadata": {},
   "outputs": [
    {
     "ename": "SyntaxError",
     "evalue": "invalid syntax (<ipython-input-7-6aa8429806a8>, line 4)",
     "output_type": "error",
     "traceback": [
      "\u001b[0;36m  File \u001b[0;32m\"<ipython-input-7-6aa8429806a8>\"\u001b[0;36m, line \u001b[0;32m4\u001b[0m\n\u001b[0;31m    print(a[]) # 0부터 3전까지\u001b[0m\n\u001b[0m            ^\u001b[0m\n\u001b[0;31mSyntaxError\u001b[0m\u001b[0;31m:\u001b[0m invalid syntax\n"
     ]
    }
   ],
   "source": [
    "a = 'Python'\n",
    "\n",
    "# pyt 출력해 보세요.\n",
    "print(a[]) # 0부터 3전까지 \n",
    "\n",
    "# on 출력해 보세요.\n",
    "print(a[]) # 4부터 끝까지 \n",
    "\n",
    "# n 출력해 보세요.\n",
    "print(a[]) # -1부터 끝까지 \n",
    "\n",
    "# nohtyP 출력해 보세요.\n",
    "print(a[0:-1]) # 처음부터 끝까지 반대로 "
   ]
  },
  {
   "cell_type": "markdown",
   "metadata": {},
   "source": [
    "#### 주민번호 문자열 슬라이싱\n",
    "주민번호를 앞자리 6자리를 입력하여 년도, 월, 일을 분리하여 출력합니다.\n"
   ]
  },
  {
   "cell_type": "code",
   "execution_count": null,
   "metadata": {},
   "outputs": [],
   "source": [
    "birthday = \"680328\"\n",
    "\n",
    "year = birthday[] # '68' 슬라이싱 \n",
    "month = birthday[] # '03' 슬라이싱\n",
    "date = birthday[] # '28' 슬라이싱\n",
    "\n",
    "print(year, '년', month, '월', date, '일')"
   ]
  },
  {
   "cell_type": "markdown",
   "metadata": {},
   "source": [
    "## Step 4 : % 문자열 포매팅\n",
    "문자열 포매팅은 문자열 사이에 특정한 값이 계속 바뀔 때 사용합니다. <br>\n",
    "문자열 포매팅에는 두 가지 방법이 있는데 우선 `%`을 사용한 포매팅에 대해 알아봅시다.<br><br>\n",
    "\n",
    "print() 함수에 문자열과 출력할 데이터의 서식 지정자를 같이 입력해 줍니다\n",
    "* %s - 문자열\n",
    "* %c - 문자\n",
    "* %d - 10진수 정수\n",
    "* %f - 실수\n",
    "* %o - 8진수 정수\n",
    "* %x - 16진수 정수\n",
    "* %e - 지수\n"
   ]
  },
  {
   "cell_type": "code",
   "execution_count": 2,
   "metadata": {},
   "outputs": [
    {
     "name": "stdout",
     "output_type": "stream",
     "text": [
      "나이를 입력하세요 : 12\n",
      "나이 :  12\n"
     ]
    }
   ],
   "source": [
    "age = int(input(\"나이를 입력하세요 : \"))\n",
    "\n",
    "print(\"나이 : \", age)"
   ]
  },
  {
   "cell_type": "code",
   "execution_count": 4,
   "metadata": {},
   "outputs": [
    {
     "ename": "SyntaxError",
     "evalue": "invalid syntax (<ipython-input-4-1764623167c0>, line 4)",
     "output_type": "error",
     "traceback": [
      "\u001b[0;36m  File \u001b[0;32m\"<ipython-input-4-1764623167c0>\"\u001b[0;36m, line \u001b[0;32m4\u001b[0m\n\u001b[0;31m    print(\"나이 : \",%d, age)\u001b[0m\n\u001b[0m                  ^\u001b[0m\n\u001b[0;31mSyntaxError\u001b[0m\u001b[0;31m:\u001b[0m invalid syntax\n"
     ]
    }
   ],
   "source": [
    "# 위와 같이 출력 되도록 % 문자열 포매팅을 사용하여 출력해 보세요.\n",
    "age = int(input(\"나이를 입력하세요 : \"))\n",
    "\n",
    "print(\"나이 : \", age)"
   ]
  },
  {
   "cell_type": "markdown",
   "metadata": {},
   "source": [
    "#### 오늘의 날씨를 출력하는 프로그램을 만들어봅니다."
   ]
  },
  {
   "cell_type": "code",
   "execution_count": null,
   "metadata": {},
   "outputs": [],
   "source": [
    "city = input('도시를 입력하세요 : ')\n",
    "temp = float(input('온도를 입력하세요 : '))\n",
    "\n",
    "print('오늘 ' + city + '의 기온은 ' , temp, '도 입니다.')"
   ]
  },
  {
   "cell_type": "code",
   "execution_count": null,
   "metadata": {},
   "outputs": [],
   "source": [
    "# 위와 같이 출력 되도록 % 문자열 포매팅을 사용하여 출력해 보세요.\n",
    "city = input('도시를 입력하세요 : ')\n",
    "temp = float(input('온도를 입력하세요 : '))\n",
    "\n",
    "print()"
   ]
  },
  {
   "cell_type": "markdown",
   "metadata": {},
   "source": [
    "## Step 5 : .format 문자열 포매팅\n",
    "%는 자료형에 따라 알맞은 서식 지정자를 일일이 정해줘야 하는 불편함이 있지만 `.format`을 사용하면 쉽게 문자열 포매팅을 할 수 있습니다.<br>\n",
    "%, 서식 지정자 대신해 `.format( )과 { }`를 사용하여 문자열에 데이터를 넣어줍니다.\n"
   ]
  },
  {
   "cell_type": "code",
   "execution_count": null,
   "metadata": {},
   "outputs": [],
   "source": [
    "# 위와 같이 출력 되도록 .format 문자열 포매팅을 사용하여 출력해 보세요.\n",
    "city = input('도시를 입력하세요 : ')\n",
    "temp = float(input('온도를 입력하세요 : '))\n",
    "\n",
    "print('오늘 {}의 기온은 {}도 입니다.' )"
   ]
  },
  {
   "cell_type": "markdown",
   "metadata": {},
   "source": [
    "#### 변수를 사용한 포매팅\n",
    "변수를 이용한 포매팅은 파이썬 3.6이후 버전부터 가능합니다.\n"
   ]
  },
  {
   "cell_type": "code",
   "execution_count": null,
   "metadata": {},
   "outputs": [],
   "source": [
    "city = input('도시를 입력하세요 : ')\n",
    "temp = float(input('온도를 입력하세요 : '))\n",
    "print(f'오늘 {city} 의 기온은 {temp} 도 입니다.')"
   ]
  },
  {
   "cell_type": "markdown",
   "metadata": {},
   "source": [
    "## Step 6 : 문자열 함수\n",
    "#### 문자열 길이\n",
    "문자열의 길이를 알아내려면 `len( )`이라는 명령어를 사용하면 됩니다. <br>\n",
    "파이썬은 빈칸을 포함한 모든 문자의 수를 세어 알려줍니다. \n",
    "\n"
   ]
  },
  {
   "cell_type": "code",
   "execution_count": null,
   "metadata": {},
   "outputs": [],
   "source": [
    "a = \"Hello~ Python!\"\n",
    "b = \"헬로우~ 파이썬!\"\n",
    "c = \n",
    "d = \n",
    "print(c) # a변수 문자의 길이를 출력\n",
    "print(d) # b변수 문자의 길이를 출력"
   ]
  },
  {
   "cell_type": "markdown",
   "metadata": {},
   "source": [
    "#### 문자열의 교체\n",
    "문자형 변수에서 원하는 부분만 다른 데이터로 바꾸기 위해서는 `.replace(현재문자, 바꿀문자)`라는 명령어를 사용하면 됩니다. \n"
   ]
  },
  {
   "cell_type": "code",
   "execution_count": null,
   "metadata": {},
   "outputs": [],
   "source": [
    "a = 'I love python!'\n",
    "b = \n",
    "\n",
    "print(a) #문자열 출력\n",
    "print(b) # 단어 사이에 공백을 없애 출력"
   ]
  },
  {
   "cell_type": "markdown",
   "metadata": {},
   "source": [
    "#### 문자열 특정문자 개수 세기 / 나누기\n",
    "문자형 변수가 포함하고 있는 특정한 문자나 문자열의 개수를 알고 싶을 때에는 `.count(문자)`를 사용하면 됩니다. <br>\n",
    "특정 문자를 기준으로 문자열을 나누고 싶을 때에는 `.split(문자)`을 사용합니다.\n"
   ]
  },
  {
   "cell_type": "code",
   "execution_count": null,
   "metadata": {},
   "outputs": [],
   "source": [
    "a = 'I love python!'\n",
    "b = \n",
    "c = \n",
    "\n",
    "print(a) # 문자열 출력 \n",
    "print(b) # 영문자 'o' 개수 출력\n",
    "print(c) # 공백으로 문자열을 나눠 출력\n",
    "\n",
    "print(type(c)) # 변수 c 데이터 형 출력\n",
    "print(a[7:]) # python! 출력\n",
    "print(c[2]) # python! 출력\n",
    "\n",
    "print(a[]) # love 출력\n",
    "print(c[]) # love 출력"
   ]
  },
  {
   "cell_type": "markdown",
   "metadata": {},
   "source": [
    "#### 문자열 위치\n",
    "특정 문자의 위치, 즉 인덱스 번호를 알고 싶으면 `.find(문자)` 명령어를 사용하면 됩니다. \n",
    "만약 입력한 단어가 없다면 -1을 반환합니다.<br>\n",
    "`find()`와 비슷한 명령어 `.index(문자)`도 있습니다. `find()`와 동일하게 특정 문자의 위치 값을 반환합니다.<br>\n",
    "`find()`는 문자를 못찾으면 -1을 반환하지만, `index()`는 문자를 찾을 수 없다고 오류를 발생시킵니다."
   ]
  },
  {
   "cell_type": "code",
   "execution_count": null,
   "metadata": {},
   "outputs": [],
   "source": [
    "a = 'I love python!'\n",
    "b = \n",
    "c = \n",
    "\n",
    "print(a) # 문자열 출력\n",
    "print(b) # find() 함수를 사용하여 영문자 'o' 찾아 인덱스 번호 출력 \n",
    "print(c) # index()함수를 사용하여 영문자 'o' 찾아 인덱스 번호 출력"
   ]
  },
  {
   "cell_type": "markdown",
   "metadata": {},
   "source": [
    "#### 문자열 삽입\n",
    "문자열의 각각 문자 사이에 특정 문자를 삽입하는데 `문자.join( )`이라는 명령어를 사용하면 됩니다."
   ]
  },
  {
   "cell_type": "code",
   "execution_count": null,
   "metadata": {},
   "outputs": [],
   "source": [
    "a = 'abcdefghijklmn'\n",
    "b = \n",
    "\n",
    "print(a) # 문자열 출력\n",
    "print(b) # 문자열의 각가가 문자사이에 컴마(,) 삽입하여 출력"
   ]
  },
  {
   "cell_type": "markdown",
   "metadata": {},
   "source": [
    "#### 문자열 대문자, 소문자\n",
    "문자열에 있는 소문자를 대문자로 바꿀 때  `.upper()`, 대문자를 소문자로 바꿀 때 `.lower()`을 사용합니다."
   ]
  },
  {
   "cell_type": "code",
   "execution_count": null,
   "metadata": {},
   "outputs": [],
   "source": [
    "a = 'I love python!'\n",
    "b = \n",
    "c = \n",
    "\n",
    "print(a) # 문자열 출력\n",
    "print(b) # 문자열의 모든 문자를 소문자로 출력\n",
    "print(c) # 문자열의 모든 문자를 대문자로 출력"
   ]
  },
  {
   "cell_type": "markdown",
   "metadata": {},
   "source": [
    "## Step 4 : in 연산자\n",
    "찾고 있는 요소가 해당 자료에 들어있는지 아닌지 확인해야 하는 경우가 있습니다. 이때 멤버 연산자 `in`을 이용하면 빠르게 확인할 수 있습니다."
   ]
  },
  {
   "cell_type": "code",
   "execution_count": null,
   "metadata": {},
   "outputs": [],
   "source": [
    "a = 'Python'  # ['P', 'y', 't', 'h', 'o', 'n']\n",
    "b = \n",
    "\n",
    "print(a) # 문자열 출력\n",
    "print(b) # 문자열에 영문자 'y'가 들어 있는지 출력"
   ]
  },
  {
   "cell_type": "code",
   "execution_count": null,
   "metadata": {},
   "outputs": [],
   "source": [
    "a = [2, 4, 6, 8, 10]\n",
    "b = \n",
    "\n",
    "print(a) # 리스트 데이터 값 출력\n",
    "print(b) # 리스트에 숫자 3이 들어 있는 지 출력"
   ]
  },
  {
   "cell_type": "markdown",
   "metadata": {},
   "source": [
    "## 연습문제"
   ]
  },
  {
   "cell_type": "markdown",
   "metadata": {},
   "source": [
    "<img src=\"image/icon.png\" align='left'> <b> 학교명(school) 문자열로 입력 받아 출력하세요. </b>\n",
    "\n",
    "▶ 출력결과 <br><br>\n",
    "학교명을 입력하세요 : 로보로보 ⏎<br>\n",
    "학교명 : 로보로보"
   ]
  },
  {
   "cell_type": "code",
   "execution_count": null,
   "metadata": {},
   "outputs": [],
   "source": [
    "#여기에 코딩해 보세요.\n",
    "school = \n",
    "print('학교명 : ', school)"
   ]
  },
  {
   "cell_type": "markdown",
   "metadata": {},
   "source": [
    "<img src=\"image/icon.png\" align='left'> <b> 가로(width), 세로(length)의 길이를 정수로 입력 받아 사각형의 넓이(area)를 계산하여 출력하세요. </b>\n",
    "\n",
    "▶ 출력결과 <br><br>\n",
    "가로 길이 = 35 ⏎ <br>\n",
    "세로 길이 = 10 ⏎ <br>\n",
    "사각형 넓이 = 350"
   ]
  },
  {
   "cell_type": "code",
   "execution_count": null,
   "metadata": {},
   "outputs": [],
   "source": [
    "#여기에 코딩해 보세요.\n",
    "width = \n",
    "length = \n",
    "area = \n",
    "print('사각형 넓이 =', area)"
   ]
  },
  {
   "cell_type": "markdown",
   "metadata": {},
   "source": [
    "<img src=\"image/icon.png\" align='left'> <b> 반지름(radius)의 길이(실수형)를 입력 받아 원의 둘레(circle)와 원의 넓이(area)를 계산하여 출력하세요. <br>        (원의 둘레 = 반지름 * 2 * 3.14 / 원의 넓이 = 반지름 * 반지름 * 3.14)\n",
    " </b>\n",
    "    \n",
    "▶ 출력결과 <br><br>\n",
    "반지름 = 5.24 ⏎ <br>\n",
    "원의 둘레 = 32.9072 <br>\n",
    "원의 넓이 = 86.21686400000002"
   ]
  },
  {
   "cell_type": "code",
   "execution_count": null,
   "metadata": {},
   "outputs": [],
   "source": [
    "#여기에 코딩해 보세요\n",
    "radius = \n",
    "circle = \n",
    "area = \n",
    "print('원의 둘레 =', circle)\n",
    "print('원의 넓디 =', area)"
   ]
  },
  {
   "cell_type": "markdown",
   "metadata": {},
   "source": [
    "<img src=\"image/icon.png\" align='left'> <b> 정수(num)을 입력 받아 양수는 음수로, 음수는 양수로 부호를 바꿔 출력하세요. </b>\n",
    "\n",
    "▶ 출력결과 <br><br>\n",
    "정수를 입력하세요 = 10 ⏎ <br>\n",
    "-10\n",
    "\n",
    "정수를 입력하세요 = -15 ⏎ <br>\n",
    "15"
   ]
  },
  {
   "cell_type": "code",
   "execution_count": null,
   "metadata": {},
   "outputs": [],
   "source": [
    "num = int(input('정수를 입력하세요 = '))\n",
    "\n",
    "#여기에 코딩해 보세요\n",
    "sign = \n",
    "print(sign)"
   ]
  },
  {
   "cell_type": "markdown",
   "metadata": {},
   "source": [
    "<img src=\"image/icon.png\" align='left'> <b> 문자(character) 입력 받아 같은 문자 60개를 출력하세요. </b>\n",
    "\n",
    "▶ 출력결과 <br><br>\n",
    "문자를 입력하세요 : = ⏎\n",
    "\n",
    "==================================================\n",
    "\n"
   ]
  },
  {
   "cell_type": "code",
   "execution_count": null,
   "metadata": {},
   "outputs": [],
   "source": [
    "#여기에 코딩해 보세요.\n",
    "character = \n",
    "string = \n",
    "print(string)"
   ]
  },
  {
   "cell_type": "markdown",
   "metadata": {},
   "source": [
    "<img src=\"image/icon.png\" align='left'> <b> 변수 string = ‘Hello World’ 문자열을 대입하여 ‘W’를 출력하세요. </b>\n",
    "    \n",
    "▶ 출력결과 <br><br>\n",
    "W"
   ]
  },
  {
   "cell_type": "code",
   "execution_count": null,
   "metadata": {},
   "outputs": [],
   "source": [
    "string = 'Hello World'\n",
    "\n",
    "#여기에 코딩해 보세요.\n",
    "print()"
   ]
  },
  {
   "cell_type": "markdown",
   "metadata": {},
   "source": [
    "<img src=\"image/icon.png\" align='left'> <b> 변수 string = ‘Hello World’ 문자열을 대입하여 ‘Hello’를 출력하세요. </b>\n",
    "\n",
    "▶ 출력결과 <br><br>\n",
    "Hello\n"
   ]
  },
  {
   "cell_type": "code",
   "execution_count": null,
   "metadata": {},
   "outputs": [],
   "source": [
    "string = 'Hello World'\n",
    "\n",
    "#여기에 코딩해 보세요.\n",
    "print()"
   ]
  },
  {
   "cell_type": "markdown",
   "metadata": {},
   "source": [
    "<img src=\"image/icon.png\" align='left'> <b> 변수 string = ‘Hello World’ 문자열을 대입하여 ‘World’를 출력하세요. (단, 뒤에서 슬라이싱 하세요.) </b>\n",
    "\n",
    "▶ 출력결과 <br><br>\n",
    "World\n"
   ]
  },
  {
   "cell_type": "code",
   "execution_count": null,
   "metadata": {},
   "outputs": [],
   "source": [
    "string = 'Hello World'\n",
    "\n",
    "#여기에 코딩해 보세요.\n",
    "print()"
   ]
  },
  {
   "cell_type": "markdown",
   "metadata": {},
   "source": [
    "<img src=\"image/icon.png\" align='left'> <b> 변수 string = ‘Hello World’ 문자열을 대입하여 거꾸로 출력하세요.</b>\n",
    "\n",
    "▶ 출력결과 <br><br>\n",
    "dlroW olleH"
   ]
  },
  {
   "cell_type": "code",
   "execution_count": null,
   "metadata": {},
   "outputs": [],
   "source": [
    "string = 'Hello World'\n",
    "\n",
    "#여기에 코딩해 보세요.\n",
    "print()"
   ]
  },
  {
   "cell_type": "markdown",
   "metadata": {},
   "source": [
    "<img src=\"image/icon.png\" align='left'> <b> 변수 number = ‘123456789’ 문자열을 대입하여 홀수만 1 3 5 7 9, 짝수만 2 4 6 8를 출력하세요. </b>\n",
    "\n",
    "▶ 출력결과 <br><br>\n",
    "13579 <br>\n",
    "2468"
   ]
  },
  {
   "cell_type": "code",
   "execution_count": null,
   "metadata": {},
   "outputs": [],
   "source": [
    "number = '123456789'\n",
    "\n",
    "#여기에 코딩해 보세요.\n",
    "print()\n",
    "print()"
   ]
  },
  {
   "cell_type": "markdown",
   "metadata": {},
   "source": [
    "<img src=\"image/icon.png\" align='left'> <b> 출생 년도 year = ‘1998’, 출생 월 month = ‘09’, 출생 일 day = ‘12’ 문자열을 대입하여 \n",
    "   주민번호 변수 number 6자리로 할당하여 출력하세요. </b>\n",
    "\n",
    "▶ 출력결과 <br><br>\n",
    "주민번호 : 980912\n"
   ]
  },
  {
   "cell_type": "code",
   "execution_count": null,
   "metadata": {},
   "outputs": [],
   "source": [
    "year = '1998'\n",
    "month = '09'\n",
    "day = '12'\n",
    "\n",
    "#여기에 코딩해 보세요.\n",
    "number = \n",
    "print('주민번호 : ', number)"
   ]
  },
  {
   "cell_type": "markdown",
   "metadata": {},
   "source": [
    "<img src=\"image/icon.png\" align='left'> <b> 핸드폰 번호 phone = ‘010-9090-5050’ 문자열을 대입하여 ‘-’ 제거하여 숫자만 변수 phone1에 \n",
    "   할당하여 출력하세요. </b>\n",
    "\n",
    "▶ 출력결과 <br><br>\n",
    "핸드폰 번호 : 01090905050\n"
   ]
  },
  {
   "cell_type": "code",
   "execution_count": null,
   "metadata": {},
   "outputs": [],
   "source": [
    "phone = '010-9090-5050'\n",
    "\n",
    "#여기에 코딩해 보세요.\n",
    "phone1 = \n",
    "print('핸드폰 번호 : ', phone1)"
   ]
  },
  {
   "cell_type": "markdown",
   "metadata": {},
   "source": [
    "<img src=\"image/icon.png\" align='left'> <b> 문자열 string = \"good to great\"을 대입하고, 문자열(word)을 입력 받아 string에 문자열이 있으면 True, 없으면 False을 출력하세요.</b>\n",
    "\n",
    "▶ 출력결과 <br><br>\n",
    "문자열을 입력하세요 : to ⏎ <br>\n",
    "True <br>\n",
    "\n",
    "문자열 입력하세요 : Good ⏎ <br>\n",
    "False"
   ]
  },
  {
   "cell_type": "code",
   "execution_count": null,
   "metadata": {},
   "outputs": [],
   "source": [
    "string = 'good to great'\n",
    "word = input('문자열을 입력하세요 : ')\n",
    "\n",
    "#여기에 코딩해 보세요.\n",
    "result = \n",
    "print(result)"
   ]
  },
  {
   "cell_type": "markdown",
   "metadata": {},
   "source": [
    "<img src=\"image/icon.png\" align='left'> <b> 두 개의 정수 num1, num2를 입력 받아 사칙연산(합(hap), 차(cha), 곱(gob), 나눈값(div))을 계산하여 출력하세요. </b>\n",
    "\n",
    "▶ 출력결과 <br><br>\n",
    "정수 = 25 ⏎ <br>\n",
    "정수 = 5 ⏎ <br>\n",
    "25 + 5 = 30 <br>\n",
    "25 - 5 = 20 <br>\n",
    "25 * 5 = 125 <br>\n",
    "25 / 5 = 5.0 <br>"
   ]
  },
  {
   "cell_type": "code",
   "execution_count": null,
   "metadata": {},
   "outputs": [],
   "source": [
    "num1 = int(input('정수 = '))\n",
    "num2 = int(input('정수 = '))\n",
    "\n",
    "hap = num1 + num2\n",
    "cha = num1 - num2\n",
    "gob = num1 * num2\n",
    "div = num1 / num2\n",
    "\n",
    "print()\n",
    "print()\n",
    "print()\n",
    "print()"
   ]
  },
  {
   "cell_type": "markdown",
   "metadata": {},
   "source": [
    "<img src=\"image/icon.png\" align='left'> <b> 두 개의 정수 num1, num2를 입력 받아 사칙연산(합(hap), 차(cha), 곱(gob), 나눈값(div))을 계산하여 % 포메팅을 사용하여 출력하세요. </b>\n",
    "\n",
    "▶ 출력결과 <br><br>\n",
    "정수 = 25 ⏎ <br>\n",
    "정수 = 5 ⏎ <br>\n",
    "25 + 5 = 30 <br>\n",
    "25 - 5 = 20 <br>\n",
    "25 * 5 = 125 <br>\n",
    "25 / 5 = 5.0 <br>"
   ]
  },
  {
   "cell_type": "code",
   "execution_count": null,
   "metadata": {},
   "outputs": [],
   "source": [
    "num1 = int(input('정수 = '))\n",
    "num2 = int(input('정수 = '))\n",
    "\n",
    "hap = num1 + num2\n",
    "cha = num1 - num2\n",
    "gob = num1 * num2\n",
    "div = num1 / num2\n",
    "\n",
    "#여기에 코딩해 보세요.\n",
    "print()\n",
    "print()\n",
    "print()\n",
    "print()"
   ]
  },
  {
   "cell_type": "markdown",
   "metadata": {},
   "source": [
    "<img src=\"image/icon.png\" align='left'> <b> 두 개의 정수 num1, num2를 입력 받아 사칙연산(합(hap), 차(cha), 곱(gob), 나눈값(div))을 계산하여 .format()를 사용하여 출력하세요. </b>\n",
    "\n",
    "▶ 출력결과 <br><br>\n",
    "정수 = 25 ⏎ <br>\n",
    "정수 = 5 ⏎ <br>\n",
    "25 + 5 = 30 <br>\n",
    "25 - 5 = 20 <br>\n",
    "25 * 5 = 125 <br>\n",
    "25 / 5 = 5.0 <br>"
   ]
  },
  {
   "cell_type": "code",
   "execution_count": null,
   "metadata": {},
   "outputs": [],
   "source": [
    "num1 = int(input('정수 = '))\n",
    "num2 = int(input('정수 = '))\n",
    "\n",
    "hap = num1 + num2\n",
    "cha = num1 - num2\n",
    "gob = num1 * num2\n",
    "div = num1 / num2\n",
    "\n",
    "#여기에 코딩해 보세요.\n",
    "print()\n",
    "print()\n",
    "print()\n",
    "print()"
   ]
  },
  {
   "cell_type": "markdown",
   "metadata": {},
   "source": [
    "<img src=\"image/icon.png\" align='left'> <b> 두 개의 정수 num1, num2를 입력 받아 사칙연산(합(hap), 차(cha), 곱(gob), 나눈값(div))을 계산하여 파이썬 3.6부터 지원하는 f-string을 사용하여 출력하세요. </b>\n",
    "\n",
    "▶ 출력결과 <br><br>\n",
    "정수 = 25 ⏎ <br>\n",
    "정수 = 5 ⏎ <br>\n",
    "25 + 5 = 30 <br>\n",
    "25 - 5 = 20 <br>\n",
    "25 * 5 = 125 <br>\n",
    "25 / 5 = 5.0 <br>"
   ]
  },
  {
   "cell_type": "code",
   "execution_count": null,
   "metadata": {},
   "outputs": [],
   "source": [
    "num1 = int(input('정수 = '))\n",
    "num2 = int(input('정수 = '))\n",
    "\n",
    "hap = num1 + num2\n",
    "cha = num1 - num2\n",
    "gob = num1 * num2\n",
    "div = num1 / num2\n",
    "\n",
    "#여기에 코딩해 보세요.\n",
    "print()\n",
    "print()\n",
    "print()\n",
    "print()"
   ]
  }
 ],
 "metadata": {
  "kernelspec": {
   "display_name": "Python 3",
   "language": "python",
   "name": "python3"
  },
  "language_info": {
   "codemirror_mode": {
    "name": "ipython",
    "version": 3
   },
   "file_extension": ".py",
   "mimetype": "text/x-python",
   "name": "python",
   "nbconvert_exporter": "python",
   "pygments_lexer": "ipython3",
   "version": "3.5.3"
  }
 },
 "nbformat": 4,
 "nbformat_minor": 4
}
