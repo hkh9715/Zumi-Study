{
 "cells": [
  {
   "cell_type": "markdown",
   "metadata": {},
   "source": [
    "<img src=\"image/ai0/Title_Security Camera.png\" width=1000>"
   ]
  },
  {
   "cell_type": "markdown",
   "metadata": {},
   "source": [
    "## 이미지 비교\n",
    "물체를 감지하는 원리는 다음과 같은 이미지 비교입니다.   \n",
    "화면의 차이가 얼마나 되는가는 다음과 같은 방식으로 측정하게 됩니다."
   ]
  },
  {
   "cell_type": "markdown",
   "metadata": {},
   "source": [
    "<img src=\"image/ai0/security_cam_02.png\" width=840>"
   ]
  },
  {
   "cell_type": "markdown",
   "metadata": {},
   "source": [
    "<img src=\"image/ai0/security_cam_03.png\" width=840>"
   ]
  },
  {
   "cell_type": "markdown",
   "metadata": {},
   "source": [
    "<br>\n",
    "\n",
    "# 보안 카메라\n",
    "연속적으로 화면을 비교해서 다른 부분이 일정 값보다 크다면 알려줍니다."
   ]
  },
  {
   "cell_type": "code",
   "execution_count": 2,
   "metadata": {},
   "outputs": [
    {
     "name": "stdout",
     "output_type": "stream",
     "text": [
      "침입자 발생!\n"
     ]
    },
    {
     "data": {
      "image/png": "[encoded data removed]",
      "text/plain": [
       "<PIL.Image.Image image mode=RGB size=160x128 at 0xA465B430>"
      ]
     },
     "metadata": {},
     "output_type": "display_data"
    },
    {
     "name": "stdout",
     "output_type": "stream",
     "text": [
      "Closing PiCamera\n"
     ]
    }
   ],
   "source": [
    "from zumi.zumi import Zumi\n",
    "from zumi.util.screen import Screen\n",
    "from zumi.util.camera import Camera\n",
    "import PIL.Image\n",
    "import cv2\n",
    "import IPython.display\n",
    "import time\n",
    "\n",
    "zumi = Zumi()\n",
    "screen = Screen()\n",
    "camera = Camera()\n",
    "camera.start_camera()\n",
    "\n",
    "screen.close_eyes()\n",
    "\n",
    "# 민감도 : 작을수록 민감도가 높음, 최소 값 : 1.5\n",
    "sensitivity = 5 \n",
    "\n",
    "# 원하는 시간동안만 프로그램을 작동시키기 위한 설정\n",
    "time_out = 10 # 입력한 시간(초) 동안 감지\n",
    "time_start = time.time()\n",
    "time_elapsed = 0\n",
    "\n",
    "print(\"감지 시작!\")\n",
    "\n",
    "try:\n",
    "    while time_elapsed < time_out:\n",
    "        # 시간을 체크 합니다.\n",
    "        time_elapsed = time.time()-time_start\n",
    "        \n",
    "        \n",
    "        # 2장의 이미지를 비교하기 쉽도록 흑백으로 변환합니다.\n",
    "        image = camera.capture()        \n",
    "        gray1 = cv2.cvtColor(image, cv2.COLOR_BGR2GRAY)        \n",
    "        image = camera.capture()\n",
    "        gray2 = cv2.cvtColor(image, cv2.COLOR_BGR2GRAY) \n",
    "        \n",
    "        # 연속된 간격으로 사진을 촬영하여 2장의 이미지를 비교합니다.\n",
    "        frameDelta = cv2.absdiff(gray1, gray2)        \n",
    "        min_pix_value = 2\n",
    "        ret, thresh = cv2.threshold(frameDelta,min_pix_value,255,cv2.THRESH_BINARY)            \n",
    "        contoursArray = cv2.findContours(thresh.copy(), cv2.RETR_EXTERNAL,cv2.CHAIN_APPROX_SIMPLE)[-2]\n",
    "        \n",
    "        # 이미지의 크기를 구합니다.\n",
    "        height, width, channels = image.shape\n",
    "        width = int(width/2)\n",
    "        height = int(height/2)\n",
    "        \n",
    "        if len(contoursArray) > 0:    \n",
    "            \n",
    "            # 감지된 영역의 크기를 구합니다.\n",
    "            countour = contoursArray[-1]        \n",
    "            x, y, w, h = cv2.boundingRect(countour)            \n",
    "            area = w*h         \n",
    "            \n",
    "            # 민감도가 1.5보다 낮지 않도록 합니다.\n",
    "            if(sensitivity < 10) :\n",
    "                sensitivity = 10\n",
    "                \n",
    "            # 감지영역이 설정 값보다 큰지 확인합니다.\n",
    "            if(area > width*height/sensitivity):\n",
    "                                \n",
    "                IPython.display.clear_output(wait=True)     \n",
    "                \n",
    "                # 감지가 상태일 때                \n",
    "                print(\"침입자 발생!\")\n",
    "            \n",
    "                zumi.play_note(120,20)\n",
    "                zumi.play_note(100,20)\n",
    "                zumi.play_note(60,50)                    \n",
    "                screen.angry()       \n",
    "                \n",
    "                image = camera.capture()\n",
    "                IPython.display.display(PIL.Image.fromarray(image))                      \n",
    "                                        \n",
    "            else:           \n",
    "                # 감지 되지 않은 상태일 때\n",
    "                zumi.play_note(0,0)                \n",
    "                screen.close_eyes()        \n",
    "finally:\n",
    "    camera.close()"
   ]
  },
  {
   "cell_type": "markdown",
   "metadata": {},
   "source": [
    "<br>\n",
    "\n",
    "<img src=\"image/ai0/security_cam_01.png\" width=1000>"
   ]
  },
  {
   "cell_type": "markdown",
   "metadata": {},
   "source": [
    "<br>\n",
    "\n",
    "## 민감도를 설정해보기\n",
    "민감도 값을 조절하면 같은 물체를 감지시키더라도 다르게 반응하게 됩니다.\n",
    "\n",
    "\n",
    "`민감도 : 작을수록 민감도가 높음, 최소 값 : 1.5`    \n",
    "`sensitivity = 5`  "
   ]
  },
  {
   "cell_type": "markdown",
   "metadata": {},
   "source": [
    "<img src=\"image/ai0/security_cam_04.png\" width=590>"
   ]
  }
 ],
 "metadata": {
  "kernelspec": {
   "display_name": "Python 3",
   "language": "python",
   "name": "python3"
  },
  "language_info": {
   "codemirror_mode": {
    "name": "ipython",
    "version": 3
   },
   "file_extension": ".py",
   "mimetype": "text/x-python",
   "name": "python",
   "nbconvert_exporter": "python",
   "pygments_lexer": "ipython3",
   "version": "3.5.3"
  }
 },
 "nbformat": 4,
 "nbformat_minor": 2
}
