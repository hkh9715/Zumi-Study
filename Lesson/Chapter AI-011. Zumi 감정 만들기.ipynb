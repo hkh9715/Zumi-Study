{
 "cells": [
  {
   "cell_type": "markdown",
   "metadata": {},
   "source": [
    "<img src=\"image/Title.png\" width=1000>"
   ]
  },
  {
   "cell_type": "markdown",
   "metadata": {},
   "source": [
    "# Zumi 감정 만들기\n",
    "\n",
    "Zumi는 감정이 있습니다! 이 레슨에서는 Zumi가 인간처럼 감정을 표현하는 방법과 python의 모듈 만들기를 통해 Zumi의 감정을 프로그래밍하는 방법을 배우게 됩니다. 또한 python의 time모듈을 이용하여 Zumi를 타이머로 만들어 봅시다.\n",
    "\n",
    "## 감정을 어떻게 인지할 수 있을까요?\n",
    "아래 이미지를 보고 각 감정을 식별할 수 있는지 확인해 보세요.\n",
    "\n",
    "<img src=\"image/ch15/emotions.png\" width=700>\n",
    "<br>\n",
    "이미지를 보고 어떻게 감정을 알 수 있었나요? 눈, 입, 눈썹 및 제스쳐처럼 지표가 될 수 있는 많은 것들이 있습니다. 인간의 감정을 로봇으로 어떻게 표현할 수 있을까요?\n",
    "\n",
    "영화 *Cars*를 보면 각 차량마다 감정이 있음을 알 수 있습니다. 각각의 차는 어떻게 감정을 표현할 수 있었나요? 움직임이었나요? 아니면 소리? 혹은 눈으로 나타냈나요?"
   ]
  },
  {
   "cell_type": "markdown",
   "metadata": {},
   "source": [
    "## Step 1: 라이브러리 가져오기\n",
    "Zumi의 감정 기능을 가져오기 위해 라이브러리를 가져 옵니다. <b>만약 이 셀을 실행하지 않으면, 이후의 프로그램은 작동하지 않습니다."
   ]
  },
  {
   "cell_type": "code",
   "execution_count": null,
   "metadata": {},
   "outputs": [],
   "source": [
    "from zumi.zumi import Zumi\n",
    "from zumi.util.screen import Screen\n",
    "from zumi.protocol import Note\n",
    "from zumi.personality import Personality\n",
    "import time\n",
    "\n",
    "zumi = Zumi()\n",
    "screen = Screen()\n",
    "personality = Personality(zumi, screen)"
   ]
  },
  {
   "cell_type": "markdown",
   "metadata": {},
   "source": [
    "## Step 2: Zumi의 감정 표현\n",
    "\n",
    "감정 표현 명령어는 다음과 같습니다.\n",
    "\n",
    "----\n",
    "\n",
    "* personality.happy()\n",
    "     \n",
    "* personality.celebrate()\n",
    "       \n",
    "* personality.angry()\n",
    "       \n",
    "* personality.look_around()\n",
    "\n",
    "* personality.look_around_open()\n",
    "       \n",
    "* personality.disoriented_left()\n",
    "       \n",
    "* personality.disoriented_right()\n",
    "\n",
    "* personality.awake()\n",
    "\n",
    "-----\n",
    "\n",
    "예를 들어, <font face=\"Courier\">personality.happy()</font> 는 Zumi가 몸을 흔들고 소리를 냅니다!\n",
    "\n",
    "아래의 셀에서 감정 표현 명령어를 테스트해 보세요!"
   ]
  },
  {
   "cell_type": "markdown",
   "metadata": {},
   "source": [
    "#### Zumi의 행복한 감정 표현하기"
   ]
  },
  {
   "cell_type": "code",
   "execution_count": null,
   "metadata": {},
   "outputs": [],
   "source": [
    "personality.happy()"
   ]
  },
  {
   "cell_type": "markdown",
   "metadata": {},
   "source": [
    "#### Zumi의 화난 감정 표현하기"
   ]
  },
  {
   "cell_type": "code",
   "execution_count": null,
   "metadata": {},
   "outputs": [],
   "source": [
    "personality.angry()"
   ]
  },
  {
   "cell_type": "markdown",
   "metadata": {},
   "source": [
    "#### Zumi가 혼란에 빠진 감정 표현하기"
   ]
  },
  {
   "cell_type": "code",
   "execution_count": null,
   "metadata": {},
   "outputs": [],
   "source": [
    "personality.disoriented_left()\n",
    "personality.disoriented_right()"
   ]
  },
  {
   "cell_type": "markdown",
   "metadata": {},
   "source": [
    "#### 여러분이 원하는 감정을 테스트해 보세요."
   ]
  },
  {
   "cell_type": "code",
   "execution_count": null,
   "metadata": {},
   "outputs": [],
   "source": [
    "#여기에 코딩해 보세요.\n",
    "# 축하\n",
    "\n",
    "# 둘러보다\n",
    "\n",
    "\n",
    "# (고개를 돌려) 돌아보다\n",
    "\n",
    "# 잠에서 깨다\n"
   ]
  },
  {
   "cell_type": "markdown",
   "metadata": {},
   "source": [
    "## Step 3: Zumi의 감정 만들기\n",
    "\n",
    "Zumi의 감정은 표정과 동작 그리고 사운드를 이용하여 다양하게 표현할 수 있습니다. 앞서 배운 Zumi의 스크린과 사운드 명령어를 활용하여 자신만의 Zumi 감정을 만들어 봅시다.\n",
    "\n",
    "<img src =\"image/ch15/poor.png\" width = 300>"
   ]
  },
  {
   "cell_type": "markdown",
   "metadata": {},
   "source": [
    "#### Zumi의 불쌍한 감정 표현하기\n",
    "스크린 명령어와 기본 주행 명령어를 함께 사용하였습니다."
   ]
  },
  {
   "cell_type": "code",
   "execution_count": null,
   "metadata": {},
   "outputs": [],
   "source": [
    "for i in range(3):\n",
    "    screen.sad()\n",
    "    time.sleep(0.5)\n",
    "    screen.close_eyes()\n",
    "    time.sleep(0.5)"
   ]
  },
  {
   "cell_type": "markdown",
   "metadata": {},
   "source": [
    "#### Zumi의 궁금해 하는 감정 표현하기\n",
    "스크린 명령어와 사운드 명령어, 기본 주행 명령어를 함께 사용하였습니다."
   ]
  },
  {
   "cell_type": "code",
   "execution_count": null,
   "metadata": {},
   "outputs": [],
   "source": [
    "for i in range(3):\n",
    "    screen.blink()\n",
    "    zumi.play_note(49, 20)\n",
    "    zumi.play_note(50, 20)\n",
    "    zumi.play_note(51, 20)"
   ]
  },
  {
   "cell_type": "markdown",
   "metadata": {},
   "source": [
    "#### Zumi의 놀라는 감정 표현하기"
   ]
  },
  {
   "cell_type": "code",
   "execution_count": null,
   "metadata": {},
   "outputs": [],
   "source": [
    "tempo = 80\n",
    "zumi.play_note(Note.C4, tempo)\n",
    "zumi.play_note(Note.E4, tempo)\n",
    "zumi.play_note(Note.G4, tempo)\n",
    "zumi.play_note(Note.C5, tempo)\n",
    "screen.sleeping()\n",
    "\n",
    "tempo = 100\n",
    "zumi.play_note(Note.B5, tempo)\n",
    "zumi.play_note(Note.AS5, tempo)\n",
    "zumi.play_note(Note.A5, tempo)\n",
    "zumi.play_note(Note.GS5, tempo)\n",
    "screen.glimmer()\n",
    "time.sleep(0.5)\n",
    "\n",
    "zumi.play_note(Note.C6,tempo)\n",
    "screen.sleepy_eyes()"
   ]
  },
  {
   "cell_type": "markdown",
   "metadata": {},
   "source": [
    "## Step4: Machine Learing for kids에서 Zumi 감정 표현하기\n",
    "머신 러닝 포 키즈에서 만든 happysad를 학습한 내용을 파이션 코드로 동작할 수 있게 jupyter notebook 복사하여 Zumi의 감정 코드를 작성합니다.\n",
    "\n",
    "<img src =\"image/ch15/poor.png\" width = 300>\n"
   ]
  },
  {
   "cell_type": "markdown",
   "metadata": {},
   "source": [
    "## Machine Learning for Kids에서 happysad 프로젝트를 파이썬 프로그램을 복사하기"
   ]
  },
  {
   "cell_type": "code",
   "execution_count": null,
   "metadata": {},
   "outputs": [],
   "source": [
    "import requests\n",
    "\n",
    "# This function will pass your text to the machine learning model\n",
    "# and return the top result with the highest confidence\n",
    "def classify(text):\n",
    "    key = \"582a3bd0-2811-11eb-8e22-77a31baf117ff8566406-618b-4940-a7b9-aad243e21053\"\n",
    "    url = \"https://machinelearningforkids.co.uk/api/scratch/\"+ key + \"/classify\"\n",
    "\n",
    "    response = requests.get(url, params={ \"data\" : text })\n",
    "\n",
    "    if response.ok:\n",
    "        responseData = response.json()\n",
    "        topMatch = responseData[0]\n",
    "        return topMatch\n",
    "    else:\n",
    "        response.raise_for_status()\n",
    "\n",
    "# CHANGE THIS to something you want your machine learning model to classify\n",
    "demo = classify(\"The text that you want to test\")\n",
    "\n",
    "label = demo[\"class_name\"]\n",
    "confidence = demo[\"confidence\"]\n",
    "\n",
    "# CHANGE THIS to do something different with the result\n",
    "print (\"result: '%s' with %d%% confidence\" % (label, confidence))"
   ]
  },
  {
   "cell_type": "markdown",
   "metadata": {},
   "source": [
    "#### demo = classity(\"The text that you want to test\") 코드에서 \n",
    "The text that you want to test 삭제하고, \"\"(따움표) 안에 여러분이 오늘의 기분을 입력해보세요."
   ]
  },
  {
   "cell_type": "code",
   "execution_count": null,
   "metadata": {},
   "outputs": [],
   "source": [
    "# CHANGE THIS to something you want your machine learning model to classify\n",
    "demo = classify(\"The text that you want to test\")\n",
    "\n",
    "label = demo[\"class_name\"]\n",
    "confidence = demo[\"confidence\"]\n",
    "\n",
    "# CHANGE THIS to do something different with the result\n",
    "print (\"result: '%s' with %d%% confidence\" % (label, confidence))"
   ]
  },
  {
   "cell_type": "markdown",
   "metadata": {},
   "source": [
    "#### '친구야 오늘 기분은 어때..' 라고 물어보고 키보드로 condition 변수에 입력을 받습니다. \n",
    "#### print()문 표시를 결과 : happy .... 정확도 : 92% 방식으로 바꿔봅니다."
   ]
  },
  {
   "cell_type": "code",
   "execution_count": null,
   "metadata": {},
   "outputs": [],
   "source": [
    "# 텍스트를 입력받는다. \n",
    "\n",
    "\n",
    "demo = classify(condition)\n",
    "\n",
    "label = demo[\"class_name\"]\n",
    "confidence = demo[\"confidence\"]\n",
    "\n",
    "# 최종 결과 표시\n",
    "\n"
   ]
  },
  {
   "cell_type": "markdown",
   "metadata": {},
   "source": [
    "####  학습 결과가 happy가 나오면 Zumi의 행복해 보이는 감정(happy)을 표현하기"
   ]
  },
  {
   "cell_type": "code",
   "execution_count": null,
   "metadata": {},
   "outputs": [],
   "source": [
    "condition = input('친구야 오늘 기분 어때... ')\n",
    "\n",
    "demo = classify(condition)\n",
    "\n",
    "label = demo[\"class_name\"]\n",
    "confidence = demo[\"confidence\"]\n",
    "\n",
    "# Zumi가 happy 표정을 표현합니다.\n",
    "\n",
    "\n",
    "\n",
    "\n",
    "print(\"결과 : {} ... 정확도 : {}%\" .format(label, confidence))"
   ]
  },
  {
   "cell_type": "markdown",
   "metadata": {},
   "source": [
    "#### 학습 결과가 sad가 나오면 Zumi의 슬퍼 보이는 감정(sad)을 추가하여 표현하기"
   ]
  },
  {
   "cell_type": "code",
   "execution_count": null,
   "metadata": {},
   "outputs": [],
   "source": [
    "condition = input('친구야 오늘 기분 어때... ')\n",
    "\n",
    "demo = classify(condition)\n",
    "\n",
    "label = demo[\"class_name\"]\n",
    "confidence = demo[\"confidence\"]\n",
    "\n",
    "# Zumi가 sad 표정을 추가합니다.\n",
    "\n",
    "\n",
    "\n",
    "\n",
    "print(\"결과 : {} ... 정확도 : {}%\" .format(label, confidence))"
   ]
  },
  {
   "cell_type": "markdown",
   "metadata": {},
   "source": [
    "#### 학습 결과에 따라 Zumi의 감정을 표현하기\n",
    "* confidence가 50이하인 경우 무슨 말인지 모르겠다는 'I don't know' 메시지를 출력\n",
    "* 5번을 반복합니다."
   ]
  },
  {
   "cell_type": "code",
   "execution_count": null,
   "metadata": {},
   "outputs": [],
   "source": [
    "for i in range(5) :\n",
    "    condition = input('친구야 오늘 기분 어때... ')\n",
    "    demo = classify(condition)\n",
    "\n",
    "    label = demo[\"class_name\"]\n",
    "    confidence = demo[\"confidence\"]\n",
    "    \n",
    "    # 학습 결과에 따라 Zumi 감정 표현\n",
    "\n",
    "    \n",
    "    \n",
    "    \n",
    "    \n",
    "    \n",
    "    \n",
    "    print(\"결과 : {} ... 정확도 : {}%\" .format(label, confidence))"
   ]
  }
 ],
 "metadata": {
  "kernelspec": {
   "display_name": "Python 3",
   "language": "python",
   "name": "python3"
  },
  "language_info": {
   "codemirror_mode": {
    "name": "ipython",
    "version": 3
   },
   "file_extension": ".py",
   "mimetype": "text/x-python",
   "name": "python",
   "nbconvert_exporter": "python",
   "pygments_lexer": "ipython3",
   "version": "3.5.3"
  }
 },
 "nbformat": 4,
 "nbformat_minor": 2
}
