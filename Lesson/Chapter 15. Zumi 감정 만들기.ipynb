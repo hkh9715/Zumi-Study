{
 "cells": [
  {
   "cell_type": "markdown",
   "metadata": {},
   "source": [
    "<img src=\"image/Title.png\" width=1000>"
   ]
  },
  {
   "cell_type": "markdown",
   "metadata": {},
   "source": [
    "# Zumi 감정 만들기\n",
    "\n",
    "Zumi는 감정이 있습니다! 이 레슨에서는 Zumi가 인간처럼 감정을 표현하는 방법과 python의 모듈 만들기를 통해 Zumi의 감정을 프로그래밍하는 방법을 배우게 됩니다. 또한 python의 time모듈을 이용하여 Zumi를 타이머로 만들어 봅시다.\n",
    "\n",
    "## 감정을 어떻게 인지할 수 있을까요?\n",
    "아래 이미지를 보고 각 감정을 식별할 수 있는지 확인해 보세요.\n",
    "\n",
    "<img src=\"image/ch15/emotions.png\" width=700>\n",
    "<br>\n",
    "이미지를 보고 어떻게 감정을 알 수 있었나요? 눈, 입, 눈썹 및 제스쳐처럼 지표가 될 수 있는 많은 것들이 있습니다. 인간의 감정을 로봇으로 어떻게 표현할 수 있을까요?\n",
    "\n",
    "영화 *Cars*를 보면 각 차량마다 감정이 있음을 알 수 있습니다. 각각의 차는 어떻게 감정을 표현할 수 있었나요? 움직임이었나요? 아니면 소리? 혹은 눈으로 나타냈나요?"
   ]
  },
  {
   "cell_type": "markdown",
   "metadata": {},
   "source": [
    "## Step 1: 라이브러리 가져오기\n",
    "Zumi의 감정 기능을 가져오기 위해 라이브러리를 가져 옵니다. <b>만약 이 셀을 실행하지 않으면, 이후의 프로그램은 작동하지 않습니다."
   ]
  },
  {
   "cell_type": "code",
   "execution_count": null,
   "metadata": {},
   "outputs": [],
   "source": [
    "from zumi.zumi import Zumi\n",
    "from zumi.util.screen import Screen\n",
    "from zumi.protocol import Note\n",
    "from zumi.personality import Personality\n",
    "import IPython.display\n",
    "import datetime\n",
    "import time\n",
    "\n",
    "zumi = Zumi()\n",
    "screen = Screen()\n",
    "personality = Personality(zumi, screen)"
   ]
  },
  {
   "cell_type": "markdown",
   "metadata": {},
   "source": [
    "## Step 2: Zumi의 감정 표현\n",
    "\n",
    "감정 표현 명령어는 다음과 같습니다.\n",
    "\n",
    "----\n",
    "  \n",
    "* personality.happy()\n",
    "     \n",
    "* personality.celebrate()\n",
    "       \n",
    "* personality.angry()\n",
    "       \n",
    "* personality.look_around()\n",
    "\n",
    "* personality.look_around_open()\n",
    "       \n",
    "* personality.disoriented_left()\n",
    "       \n",
    "* personality.disoriented_right()\n",
    "\n",
    "* personality.awake()\n",
    "\n",
    "-----\n",
    "\n",
    "예를 들어, <font face=\"Courier\">personality.happy()</font> 는 Zumi가 몸을 흔들고 소리를 냅니다!\n",
    "\n",
    "아래의 셀에서 감정 표현 명령어를 테스트해 보세요!"
   ]
  },
  {
   "cell_type": "markdown",
   "metadata": {},
   "source": [
    "#### Zumi의 행복한 감정 표현하기"
   ]
  },
  {
   "cell_type": "code",
   "execution_count": null,
   "metadata": {},
   "outputs": [],
   "source": [
    "personality.happy()"
   ]
  },
  {
   "cell_type": "markdown",
   "metadata": {},
   "source": [
    "#### Zumi의 화난 감정 표현하기"
   ]
  },
  {
   "cell_type": "code",
   "execution_count": null,
   "metadata": {},
   "outputs": [],
   "source": [
    "personality.angry()"
   ]
  },
  {
   "cell_type": "markdown",
   "metadata": {},
   "source": [
    "#### Zumi가 혼란에 빠진 감정 표현하기"
   ]
  },
  {
   "cell_type": "code",
   "execution_count": null,
   "metadata": {},
   "outputs": [],
   "source": [
    "personality.disoriented_right()"
   ]
  },
  {
   "cell_type": "markdown",
   "metadata": {},
   "source": [
    "<img src=\"image/icon.png\" align='left'> <b> 여러분이 원하는 감정을 테스트해 보세요.</b>"
   ]
  },
  {
   "cell_type": "code",
   "execution_count": null,
   "metadata": {},
   "outputs": [],
   "source": [
    "#여기에 코딩해 보세요."
   ]
  },
  {
   "cell_type": "markdown",
   "metadata": {},
   "source": [
    "### 해결 방법\n",
    "\n",
    "<br>\n",
    "<font size =3>\n",
    "    <details>\n",
    "        <summary><span style=\"color:blue\"><u>해결 방법을 보려면 여기를 클릭하세요!</u></span></summary>\n",
    "            <font face=\"Courier\"><br>\n",
    "<span style=\"margin-left: 40px;\">personality.look_around_open()<br></span>\n",
    "            </font>\n",
    "    </details>\n",
    "</font>"
   ]
  },
  {
   "cell_type": "markdown",
   "metadata": {},
   "source": [
    "<br>\n",
    "\n",
    "## Step 3: Zumi의 감정 만들기\n",
    "\n",
    "Zumi의 감정은 표정과 동작 그리고 사운드를 이용하여 다양하게 표현할 수 있습니다. 앞서 배운 Zumi의 스크린과 사운드 명령어를 활용하여 자신만의 Zumi 감정을 만들어 봅시다.\n",
    "\n",
    "<img src =\"image/ch15/poor.png\" width = 300>"
   ]
  },
  {
   "cell_type": "markdown",
   "metadata": {},
   "source": [
    "#### Zumi의 불쌍한 감정 표현하기\n",
    "스크린 명령어와 기본 주행 명령어를 함께 사용하였습니다."
   ]
  },
  {
   "cell_type": "code",
   "execution_count": null,
   "metadata": {},
   "outputs": [],
   "source": [
    "for i in range(3):\n",
    "    screen.sad()\n",
    "    time.sleep(0.5)\n",
    "    screen.close_eyes()\n",
    "    time.sleep(0.5)\n",
    "    zumi.reverse(5, 0.1)\n",
    "    zumi.reverse(5, 0.1)"
   ]
  },
  {
   "cell_type": "markdown",
   "metadata": {},
   "source": [
    "#### Zumi의 궁금해 하는 감정 표현하기\n",
    "스크린 명령어와 사운드 명령어, 기본 주행 명령어를 함께 사용하였습니다."
   ]
  },
  {
   "cell_type": "code",
   "execution_count": null,
   "metadata": {},
   "outputs": [],
   "source": [
    "for i in range(3):\n",
    "    screen.blink()\n",
    "    zumi.play_note(49, 20)\n",
    "    zumi.play_note(50, 20)\n",
    "    zumi.play_note(51, 20)\n",
    "    zumi.forward(10, 0.1)"
   ]
  },
  {
   "cell_type": "markdown",
   "metadata": {},
   "source": [
    "#### Zumi의 놀라는 감정 표현하기"
   ]
  },
  {
   "cell_type": "code",
   "execution_count": null,
   "metadata": {},
   "outputs": [],
   "source": [
    "tempo = 80\n",
    "zumi.play_note(Note.C4, tempo)\n",
    "zumi.play_note(Note.E4, tempo)\n",
    "zumi.play_note(Note.G4, tempo)\n",
    "zumi.play_note(Note.C5, tempo)\n",
    "screen.sleeping()\n",
    "\n",
    "tempo = 100\n",
    "zumi.play_note(Note.B5, tempo)\n",
    "zumi.play_note(Note.AS5, tempo)\n",
    "zumi.play_note(Note.A5, tempo)\n",
    "zumi.play_note(Note.GS5, tempo)\n",
    "zumi.reverse(10, 0.1)\n",
    "screen.glimmer()\n",
    "time.sleep(0.5)\n",
    "\n",
    "zumi.play_note(Note.C6,tempo)\n",
    "screen.sleepy_eyes()"
   ]
  },
  {
   "cell_type": "markdown",
   "metadata": {},
   "source": [
    "<img src=\"image/icon.png\" align='left'> <b> Zumi가 감정을 표현할 수 있도록, 원하는 감정을 만들어 보세요."
   ]
  },
  {
   "cell_type": "code",
   "execution_count": null,
   "metadata": {},
   "outputs": [],
   "source": [
    "#여기에 코딩해 보세요."
   ]
  },
  {
   "cell_type": "markdown",
   "metadata": {},
   "source": [
    "### 해결 방법\n",
    "\n",
    "<br>\n",
    "<font size =3>\n",
    "    <details>\n",
    "        <summary><span style=\"color:blue\"><u>해결 방법을 보려면 여기를 클릭하세요!</u></span></summary>\n",
    "            <font face=\"Courier\"><br>\n",
    "<span style=\"margin-left: 40px;\"># 놀람<br></span>\n",
    "<span style=\"margin-left: 40px;\">zumi.play_note(Note.C3, 50)<br></span>\n",
    "<span style=\"margin-left: 40px;\">zumi.play_note(Note.F3, 100)<br></span>\n",
    "<span style=\"margin-left: 40px;\">zumi.play_note(Note.B4, 200)<br></span>\n",
    "<span style=\"margin-left: 40px;\">screen.look_around_open()<br></span>\n",
    "            </font>\n",
    "    </details>\n",
    "</font>"
   ]
  },
  {
   "cell_type": "markdown",
   "metadata": {},
   "source": [
    "<br>\n",
    "\n",
    "## Step4: Zumi 감정 모듈 만들기\n",
    "\n",
    "<img src =\"image/ch15/my_module.png\" width = 500>\n",
    "앞서 만든 코드를 모듈로 작성하여 Zumi에서 제공하는 personality 모듈처럼, 한 줄의 명령어만으로 동작할 수 있게 해봅시다. 먼저 모듈 파일에 Zumi의 감정 코드를 작성합니다.아래 링크를 클릭하여 `MyPersonality` 모듈에 코드를 등록해 보세요!\n",
    "\n",
    "[감정모듈](http://192.168.10.1:5555/edit/Zumi_Content_ko/Lesson/module/MyPersonality.py)"
   ]
  },
  {
   "cell_type": "markdown",
   "metadata": {},
   "source": [
    "#### MyPersonality 모듈을 불러오기"
   ]
  },
  {
   "cell_type": "code",
   "execution_count": null,
   "metadata": {},
   "outputs": [],
   "source": [
    "from module.MyPersonality import *"
   ]
  },
  {
   "cell_type": "markdown",
   "metadata": {},
   "source": [
    "#### Zumi의 불쌍해 보이는 감정(poor)을 모듈로 불러와 테스트하기"
   ]
  },
  {
   "cell_type": "code",
   "execution_count": null,
   "metadata": {},
   "outputs": [],
   "source": [
    "poor()"
   ]
  },
  {
   "cell_type": "markdown",
   "metadata": {},
   "source": [
    "#### Zumi가 궁금해 하는 감정(wonder)을 모듈로 불러와 테스트하기\n",
    "MyPersonality.py 파일에 코드를 작성하였는지 확인하세요."
   ]
  },
  {
   "cell_type": "code",
   "execution_count": null,
   "metadata": {},
   "outputs": [],
   "source": [
    "wonder()"
   ]
  },
  {
   "cell_type": "markdown",
   "metadata": {},
   "source": [
    "#### Zumi가 놀라는 감정(oops)을 모듈로 불러와 테스트하기\n",
    "MyPersonality.py 파일에 코드를 작성하였는지 확인하세요."
   ]
  },
  {
   "cell_type": "code",
   "execution_count": null,
   "metadata": {},
   "outputs": [],
   "source": [
    "oops()"
   ]
  },
  {
   "cell_type": "markdown",
   "metadata": {},
   "source": [
    "<img src=\"image/icon.png\" align='left'> <b> 여러분이 원하는 Zumi 감정을 MyPersonality.py 에 등록하여 동작시켜 보세요.</b>"
   ]
  },
  {
   "cell_type": "code",
   "execution_count": null,
   "metadata": {},
   "outputs": [],
   "source": [
    "#여기에 코딩해 보세요."
   ]
  },
  {
   "cell_type": "markdown",
   "metadata": {},
   "source": [
    "### 해결 방법\n",
    "\n",
    "<br>\n",
    "<font size =3>\n",
    "    <details>\n",
    "        <summary><span style=\"color:blue\"><u>해결 방법을 보려면 여기를 클릭하세요!</u></span></summary>\n",
    "            <font face=\"Courier\"><br>\n",
    "<span style=\"margin-left: 40px;\">def surprising():<br></span>\n",
    "<span style=\"margin-left: 80px;\">zumi.play_note(Note.C3, 50)<br></span>\n",
    "<span style=\"margin-left: 80px;\">zumi.play_note(Note.F3, 100)<br></span>\n",
    "<span style=\"margin-left: 80px;\">zumi.play_note(Note.B4, 200)<br></span>\n",
    "<span style=\"margin-left: 80px;\">screen.look_around_open()<br></span>\n",
    "            </font>\n",
    "    </details>\n",
    "</font>"
   ]
  },
  {
   "cell_type": "markdown",
   "metadata": {},
   "source": [
    "<br>\n",
    "\n",
    "## Step5: Zumi 타이머 만들기\n",
    "\n",
    "파이썬에서 제공하는 기본 모듈 `time` 은 다양한 시간 기능을 다루는 모듈입니다. time.time()은 현재 시각을 구하는 함수이고, time.sleep()은 괄호 안의 시간 동안 CPU를 실행시키지 않고 재우는 함수이며 시간의 단위는 초(second)입니다. time모듈에 대해 알아보고, Zumi를 타이머로 만들어 보겠습니다."
   ]
  },
  {
   "cell_type": "markdown",
   "metadata": {},
   "source": [
    "#### 타자 게임하기\n",
    "먼저 `time`모듈을 이용한 타자게임을 해보세요! 시작 시간과 종료 시간을 각각의 변수에 넣어 실행 시간을 알려줍니다."
   ]
  },
  {
   "cell_type": "code",
   "execution_count": null,
   "metadata": {},
   "outputs": [],
   "source": [
    "import time\n",
    "import random\n",
    "from datetime import datetime\n",
    "\n",
    "example_string = [    \n",
    "'자장자장 우리 아기 잘도 잔다 우리 아기',\n",
    "'꼬꼬닭아 우지 마라 우리 아기 잠을 깰라',\n",
    "    \n",
    "'개울가에 올챙이 한 마리 꼬물꼬물 헤엄치다',\n",
    "'뒷다리가 쑥, 앞다리가 쑥, 팔딱팔딱 개구리 됐네.',\n",
    "    \n",
    "'이상하고 아름다운 도깨비 나라',\n",
    "'방망이를 두드리면 무엇이 될까',\n",
    "        \n",
    "'산토끼 토끼야 어디로 가느냐',\n",
    "'깡충 깡충 뛰면서 어디로 가느냐',\n",
    "        \n",
    "'나비야, 나비야, 이리 날아오너라.',\n",
    "'노랑나비, 흰나비, 춤을 추며 오너라.',\n",
    "        \n",
    "'반짝반짝 작은 별 아름답게 비치네',\n",
    "'동쪽 하늘에서도 서쪽 하늘에서도',\n",
    "        \n",
    "'이슬비 내리는 이른 아침에',\n",
    "'우산 셋이 나란히 걸어갑니다',\n",
    "        \n",
    "'파란 하늘 파란 하늘 꿈이 드리운 푸른 언덕에',\n",
    "'아기 염소 여럿이 풀을 뜯고 놀아요, 해처럼 밝은 얼굴로',\n",
    "]\n",
    "\n",
    "random.seed(datetime.now())\n",
    "select_example = random.randrange(0,15,2)\n",
    "\n",
    "input(\"\"\"\n",
    "- 문장을 따라 적으세요.\n",
    "- Enter키를 누르면 타자 게임이 시작됩니다.\\n\n",
    "\"\"\")\n",
    "\n",
    "print(\"==================== 시작 ====================\\n\")\n",
    "\n",
    "start_time = time.time()\n",
    "\n",
    "print(example_string[select_example])\n",
    "input1 = input(\"\")\n",
    "print(example_string[select_example+1])\n",
    "input2 = input(\"\")\n",
    "\n",
    "end_time = time.time()\n",
    "result_time = end_time - start_time\n",
    "\n",
    "print(\"\\n==================== 종료 ====================\\n\")\n",
    "\n",
    "if input1 != example_string[select_example] or input2 != example_string[select_example+1] :    \n",
    "    print(\"- 입력된 문장에 오타가 있습니다.\")\n",
    "\n",
    "print(\"- 타자 입력 시간은 %d초 입니다.\"%result_time)    "
   ]
  },
  {
   "cell_type": "markdown",
   "metadata": {},
   "source": [
    "#### Zumi 타이머 동작하기\n",
    "Zumi가 얇게 동작을 하게 만들어 보세요! 여러분이 정해 놓은 시각에 맞추어, Zumi가 정확하게 알려줄 것입니다. \n",
    "\n",
    "* 알람 시간을 입력하세요. :  <font face=\"Courier\">0</font>\n",
    "* 알람 분을 입력하세요. :  <font face=\"Courier\">3</font>  \n",
    "\n",
    "위와 같이 입력을 하면, `0 시간 3분 뒤에 알람이 울립니다.` 라는 메세지를 출력합니다. Zumi의 스크린을 확인해 보세요! 남은 시간을 계속해서 표시해 주고, 정해진 시각이 되면 소리를 낼 것입니다.\n",
    "\n",
    "여러분이 알림을 받고 싶은 시각은 언제 인가요??"
   ]
  },
  {
   "cell_type": "code",
   "execution_count": null,
   "metadata": {},
   "outputs": [],
   "source": [
    "import time\n",
    "def Timer():\n",
    "    \n",
    "    screen.sleepy_eyes()\n",
    "\n",
    "    setHour = int(input(\"- 알람 시간을 입력하세요. : \"))\n",
    "    while True:\n",
    "        setMinute = int(input(\"- 알람 분을 입력하세요. : \"))\n",
    "        if(setMinute < 60):\n",
    "            break\n",
    "\n",
    "    setSecond = ((setHour*60) + setMinute) * 60\n",
    "    print('\\n- %d 시간 %d 분 뒤에 알람이 울립니다.\\n'%(setHour,setMinute))\n",
    "    start = time.time()\n",
    "    cycleTime = time.time() \n",
    "\n",
    "    while True:\n",
    "\n",
    "        if(cycleTime < time.time() - 10):\n",
    "            cycleTime = time.time()     \n",
    "            remainingTime = time.time() - start\n",
    "            if(setSecond <= remainingTime):\n",
    "                break\n",
    "            else :\n",
    "                if(setSecond - remainingTime < 60):\n",
    "                    print(\"- 알람이 작동하기까지 \" + format(setSecond - remainingTime,\"000.0f\") +\"초 남았습니다.\")\n",
    "                    screen.draw_text_center(\"Alarm \" + format(setSecond - remainingTime,\"000.0f\")+ \" seconds\",font_size=20)\n",
    "                else:\n",
    "                    print(\"- 알람이 작동하기까지 \"+ format((setSecond - remainingTime)/60,\"000.0f\") +\"분 남았습니다.\")            \n",
    "                    screen.draw_text_center(\"Alarm \" + format((setSecond - remainingTime)/60,\"000.0f\")+\" Minutes\",font_size=20)\n",
    "\n",
    "    print(\"\\n- 알람이 작동합니다.\")\n",
    "\n",
    "    zumi.play_note(Note.C4,100)\n",
    "    zumi.play_note(Note.E4,100)\n",
    "    zumi.play_note(Note.G4,100)  \n",
    "    time.sleep(0.1)\n",
    "    zumi.play_note(Note.C5,100)\n",
    "\n",
    "    personality.awake()\n",
    "\n",
    "try:\n",
    "    Timer()\n",
    "except KeyboardInterrupt:\n",
    "    print(\"The interrupt button was pressed.\")\n",
    "    "
   ]
  },
  {
   "cell_type": "markdown",
   "metadata": {},
   "source": [
    "<br>\n",
    "\n",
    "## Step6: Zumi 알람시계 만들기\n",
    "\n",
    "여러분은 매일 아침 잠에서 어떻게 깨어나나요? 아침을 시작하는 익숙한 소리, 바로 알람시계 소리입니다. 이번에는 time과 함께 python의 시간 관련 기본 내장 모듈인 datatime을 사용하여 Zumi 알람시계를 만들어 보겠습니다."
   ]
  },
  {
   "cell_type": "markdown",
   "metadata": {},
   "source": [
    "#### Zumi 알람시계 동작하기\n",
    "Zumi의 알람시계를 설정해 보세요! 여러분이 필요로 하는 그 시각에 Zumi가 알람을 울립니다!\n",
    "\n",
    "* 시간을 입력하세요.(0-23) = : <font face=\"Courier\">14</font>\n",
    "* 분을 입력하세요.(0-59) = : <font face=\"Courier\">30</font>  \n",
    "\n",
    "위와 같이 입력을 하면 `현재 시간과 알람 시간, 남은 시간`을 출력합니다. Zumi의 스크린을 확인해 보세요! 남은 시간을 계속해서 표시해 주고, 정해진 시각이 되면 알람 소리를 낼 것입니다.\n",
    "\n",
    "여러분이 알람을 받고 싶은 시각은 언제 인가요??"
   ]
  },
  {
   "cell_type": "code",
   "execution_count": null,
   "metadata": {},
   "outputs": [],
   "source": [
    "import time\n",
    "import datetime\n",
    "\n",
    "def Alarm():\n",
    "    \n",
    "    KST = 9 # 기준시\n",
    "    # KST = 8 # 주미의 기준시간은 영국을 기준으로 하므로 특정 계절에 따라 1시간의 차이가 있을 수 있습니다.\n",
    "\n",
    "    dateUTC = datetime.datetime.now()\n",
    "    dateNow = dateUTC + datetime.timedelta(hours=KST) # datetime.timedelta()의 매개변수를 변경하면 기준시를 변경할 수 있습니다.\n",
    "\n",
    "    screen.sleepy_eyes()\n",
    "    print(\"알람을 입력합니다. \")\n",
    "    while True:\n",
    "        setHour = int(input(\"시간을 입력하세요.(0-23) = \"))\n",
    "        if(setHour < 24):\n",
    "            break\n",
    "\n",
    "    while True:\n",
    "        setMinute = int(input(\"분을 입력하세요.(0-59) = \"))\n",
    "        if(setMinute < 60):\n",
    "            break\n",
    "\n",
    "    alarmTime = datetime.datetime(dateNow.year, dateNow.month, dateNow.day, setHour, setMinute, 0)\n",
    "\n",
    "    while True:\n",
    "\n",
    "        IPython.display.clear_output(wait=True)\n",
    "\n",
    "        dateUTC = datetime.datetime.now()\n",
    "        dateNow = dateUTC + datetime.timedelta(hours=KST)\n",
    "\n",
    "        hour = (alarmTime-dateNow).seconds // 3600\n",
    "        second = (alarmTime-dateNow).seconds % 3600\n",
    "\n",
    "        if(second >= 60):\n",
    "            minute = second // 60\n",
    "            second = second % 60\n",
    "\n",
    "        else:\n",
    "            minute = 0\n",
    "\n",
    "        print(\"현재 시간: \" , dateNow.hour,'시', dateNow.minute,'분', dateNow.second, '초') \n",
    "        print(\"알람 시간: \" , setHour,'시', setMinute,'분', 0, '초') \n",
    "        print(\"남은 시간: \" , hour,'시간', minute,'분', second, '초') \n",
    "\n",
    "        if(setHour == dateNow.hour) and (setMinute == dateNow.minute):\n",
    "            break\n",
    "\n",
    "        screen.draw_text_center(\" Alarm  \" + str(hour)+\":\"+str(minute)+\":\"+str(second),font_size=20)\n",
    "\n",
    "        time.sleep(10)\n",
    "\n",
    "    print(\"알람이 작동합니다.\")\n",
    "\n",
    "    zumi.play_note(Note.C4,100)\n",
    "    zumi.play_note(Note.E4,100)\n",
    "    zumi.play_note(Note.G4,100)  \n",
    "    time.sleep(0.1)\n",
    "    zumi.play_note(Note.C5,100)\n",
    "\n",
    "    personality.awake()\n",
    "\n",
    "try:\n",
    "    Alarm()\n",
    "except KeyboardInterrupt:\n",
    "    print(\"The interrupt button was pressed.\")"
   ]
  }
 ],
 "metadata": {
  "kernelspec": {
   "display_name": "Python 3",
   "language": "python",
   "name": "python3"
  },
  "language_info": {
   "codemirror_mode": {
    "name": "ipython",
    "version": 3
   },
   "file_extension": ".py",
   "mimetype": "text/x-python",
   "name": "python",
   "nbconvert_exporter": "python",
   "pygments_lexer": "ipython3",
   "version": "3.5.3"
  }
 },
 "nbformat": 4,
 "nbformat_minor": 2
}
