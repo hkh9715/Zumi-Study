{
 "cells": [
  {
   "cell_type": "markdown",
   "metadata": {},
   "source": [
    "<img src=\"image/Title.png\" width=1000>"
   ]
  },
  {
   "cell_type": "markdown",
   "metadata": {},
   "source": [
    "# Zumi 라이트\n",
    "\n",
    "자동차에 라이트가 있듯이 Zumi에게도 라이트가 있습니다. 자동차의 라이트는 어두운 밤에 불을 밝혀 주기도 하고 상대방에게 신호를 보내서 사고를 예방하고 안전한 운전을 할 수 있게 합니다. 이 챕터에서는 반복문(while)과 제어문(if)으로 Zumi의 라이트를 제어하는 방법을 배우게 됩니다."
   ]
  },
  {
   "cell_type": "markdown",
   "metadata": {},
   "source": [
    "\n",
    "# LED란?\n",
    "\n",
    "LED란 Light Emitting Diode(라이트 이미팅 다이오드)의 약자로서 반도체에 전기를 통해주면 빛이 나는 현상을 이용하여 만들어진 전자부품입니다. 전구와 비슷한 역할을 하지만 전기도 훨씬 적게 소비하고 수명도 반영구적이라 앞으로 더욱 널리 사용될 것이라고 합니다. 우리말로 발광다이오드라고 부르는 이 전자부품은 TV, 비디오, 전자레인지, 휴대폰 등 여러 가전제품의 상태 표시용으로 널리 사용되어왔습니다. 요즘에는 아래 그림과 같이 신호등에서도 사용됩니다.\n",
    "\n",
    "<br>\n",
    "\n",
    "<img src=\"image/ch6/led.jpg\" width=700>\n",
    "\n",
    "<br>\n",
    "<br>\n",
    "\n"
   ]
  },
  {
   "cell_type": "markdown",
   "metadata": {},
   "source": [
    "# 자동차의 라이트\n",
    "\n",
    "자동차에는 전조등, 안개등, 방향지시등과 같이 다양한 라이트가 있습니다. 그리고 라이트마다 역할도 다르기 때문에 상황에 맞게 사용해야 합니다.\n",
    "\n",
    "* <b>전조등</b> : 야간 주행시 전방을 밝혀주는 LED\n",
    "* <b>방향지시등</b> : 좌회전, 우회전 할 때, 상대방에게 신호를 주는 LED\n",
    "* <b>안개등</b> : 날씨로 인해 앞이 흐릴 때, 가까운 전방을 밝혀주는 LED\n",
    "* <b>제동등</b> : 브레이크를 밟을 때, 나타내는 LED\n",
    "* <b>후진등</b> : 후진을 할 때, 나타나는 LED\n",
    "\n",
    "<br>\n",
    "\n",
    "<img src=\"image/ch6/car.jpg\" width=1000>"
   ]
  },
  {
   "cell_type": "markdown",
   "metadata": {},
   "source": [
    "# Zumi의 라이트 사용하기\n",
    "Zumi에는 전조등과 제동등이 장착되어 있습니다.\n",
    "\n",
    "<br>\n",
    "\n",
    "<img src=\"image/ch6/led_board.png\" width=700>"
   ]
  },
  {
   "cell_type": "markdown",
   "metadata": {},
   "source": [
    "## Step 1 : 라이브러리 가져오기\n",
    "Zumi의 LED를 사용하기 위해 라이브러리를 가져 옵니다. <b>만약 이 셀을 실행하지 않으면, 이후의 프로그램은 작동하지 않습니다.<b>"
   ]
  },
  {
   "cell_type": "code",
   "execution_count": 1,
   "metadata": {
    "scrolled": true
   },
   "outputs": [
    {
     "name": "stdout",
     "output_type": "stream",
     "text": [
      "Starting Zumi \n",
      "Pi Zero I2C is available\n",
      "Verified Pi Zero is the same\n",
      "Gyroscope previously calibrated\n",
      "Zumi board detected\n",
      "Compass detected\n",
      "OLED Screen detected\n",
      "Gyroscope & Accelerometer detected\n"
     ]
    }
   ],
   "source": [
    "from zumi.zumi import Zumi\n",
    "from zumi.util.screen import Screen\n",
    "import time\n",
    "\n",
    "zumi = Zumi()\n",
    "screen = Screen()"
   ]
  },
  {
   "cell_type": "markdown",
   "metadata": {},
   "source": [
    "## Step 2 : Zumi 라이트 명령어\n",
    "Zumi는 자동차처럼 라이트를 사용할 수 있는 다양한 명령어가 있습니다.\n",
    "\n",
    "\n",
    "<br>\n",
    "\n",
    "--------\n",
    "\n",
    "* zumi.all_lights_on() : 모든 라이트 켜기\n",
    "* zumi.all_lights_off() : 모든 라이트 끄기\n",
    "<img src='image/ch6/all_light.png' width = 400>\n",
    "\n",
    "<br>\n",
    "\n",
    "--------\n",
    "\n",
    "* zumi.headlights_on() : 전면 라이트 켜기\n",
    "* zumi.headlights_off() : 전면 라이트 끄기\n",
    "<img src='image/ch6/headlight.png' width = 300>\n",
    "\n",
    "<br>\n",
    "\n",
    "--------\n",
    "\n",
    "* zumi.brake_lights_on() : 후면 라이트 켜기\n",
    "* zumi.brake_lights_off() : 후면 라이트 끄기\n",
    "<img src='image/ch6/brake_light.png' width = 300>\n",
    "\n",
    "<br>\n",
    "\n",
    "--------\n",
    "\n",
    "* zumi.hazard_lights_on() : 모든 라이트 깜빡이기\n",
    "* zumi.hazard_lights_off() : 모든 라이트 깜빡이 끄기\n",
    "<img src='image/ch6/hazard.png'>\n",
    "\n",
    "<br>\n",
    "\n",
    "--------\n",
    "\n",
    "* zumi.signal_left_on() : 왼쪽 라이트 깜빡이기\n",
    "* zumi.signal_left_off() : 왼쪽 라이트 깜빡이 끄기\n",
    "<img src='image/ch6/left_signal.png'>\n",
    "\n",
    "<br>\n",
    "\n",
    "--------\n",
    "\n",
    "* zumi.signal_right_on() : 오른쪽 라이트 깜빡이기\n",
    "* zumi.signal_right_off() : 오른쪽 라이트 깜빡이 끄기\n",
    "<img src='image/ch6/right_signal.png'>\n",
    "\n",
    "\n",
    "<br>"
   ]
  },
  {
   "cell_type": "markdown",
   "metadata": {},
   "source": [
    "#### 모든 라이트 켜기"
   ]
  },
  {
   "cell_type": "code",
   "execution_count": 2,
   "metadata": {
    "scrolled": true
   },
   "outputs": [],
   "source": [
    "zumi.all_lights_on()"
   ]
  },
  {
   "cell_type": "markdown",
   "metadata": {},
   "source": [
    "#### 모든 라이트 끄기"
   ]
  },
  {
   "cell_type": "code",
   "execution_count": 3,
   "metadata": {
    "scrolled": true
   },
   "outputs": [],
   "source": [
    "zumi.all_lights_off() "
   ]
  },
  {
   "cell_type": "markdown",
   "metadata": {},
   "source": [
    "<img src=\"image/icon.png\" align='left'> <b>라이트 동작을 자유롭게 코딩해 보세요."
   ]
  },
  {
   "cell_type": "code",
   "execution_count": null,
   "metadata": {
    "scrolled": true
   },
   "outputs": [],
   "source": [
    "#여기에 코딩해 보세요."
   ]
  },
  {
   "cell_type": "markdown",
   "metadata": {},
   "source": [
    "### 해결 방법\n",
    "\n",
    "<br>\n",
    "<font size =3>\n",
    "    <details>\n",
    "        <summary><span style=\"color:blue\"><u>해결 방법을 보려면 여기를 클릭하세요!</u></span></summary>\n",
    "            <font face=\"Courier\"><br>\n",
    "                zumi.hazard_lights_on() <br>\n",
    "                time.sleep(1)<br>\n",
    "                zumi.all_lights_off() <br>\n",
    "                time.sleep(1)<br>\n",
    "                zumi.all_lights_on() <br>\n",
    "                time.sleep(1)<br>\n",
    "                zumi.all_lights_off() <br>\n",
    "            </font>\n",
    "    </details>\n",
    "</font>\n"
   ]
  },
  {
   "cell_type": "code",
   "execution_count": 4,
   "metadata": {
    "scrolled": true
   },
   "outputs": [],
   "source": [
    "zumi.hazard_lights_on()\n",
    "time.sleep(2)\n",
    "zumi.hazard_lights_off()\n",
    "time.sleep(1)\n",
    "zumi.all_lights_on()\n",
    "time.sleep(1)\n",
    "zumi.all_lights_off()"
   ]
  },
  {
   "cell_type": "markdown",
   "metadata": {},
   "source": [
    "<img src=\"image/icon.png\" align='left'> <b>Zumi가 2초 동안 전진하고, 후면 라이트를 켜도록 코딩해 보세요."
   ]
  },
  {
   "cell_type": "code",
   "execution_count": 6,
   "metadata": {
    "scrolled": true
   },
   "outputs": [],
   "source": [
    "zumi.forward(1)\n",
    "time.sleep(2)\n",
    "zumi.brake_lights_on()\n",
    "time.sleep(2)\n",
    "zumi.brake_lights_off()"
   ]
  },
  {
   "cell_type": "markdown",
   "metadata": {},
   "source": [
    "### 해결 방법\n",
    "\n",
    "<br>\n",
    "<font size =3>\n",
    "    <details>\n",
    "        <summary><span style=\"color:blue\"><u>해결 방법을 보려면 여기를 클릭하세요!</u></span></summary>\n",
    "            <font face=\"Courier\"><br>\n",
    "                zumi.forward(30,2)<br>\n",
    "                zumi.brake_lights_on()<br>\n",
    "            </font>\n",
    "    </details>\n",
    "</font>\n"
   ]
  },
  {
   "cell_type": "markdown",
   "metadata": {},
   "source": [
    "<img src=\"image/icon.png\" align='left'> <b>Zumi가 왼쪽 깜박이를 켜고 좌회전 하도록 코딩해 보세요."
   ]
  },
  {
   "cell_type": "code",
   "execution_count": 8,
   "metadata": {
    "scrolled": true
   },
   "outputs": [],
   "source": [
    "zumi.signal_left_on()\n",
    "time.sleep(2)\n",
    "zumi.turn_left()\n",
    "zumi.forward(1)\n",
    "zumi.signal_left_off()"
   ]
  },
  {
   "cell_type": "markdown",
   "metadata": {},
   "source": [
    "### 해결 방법\n",
    "\n",
    "<br>\n",
    "<font size =3>\n",
    "    <details>\n",
    "        <summary><span style=\"color:blue\"><u>해결 방법을 보려면 여기를 클릭하세요!</u></span></summary>\n",
    "            <font face=\"Courier\"><br>\n",
    "zumi.signal_left_on()<br>\n",
    "zumi.turn_left()<br>\n",
    "            </font>\n",
    "    </details>\n",
    "</font>\n"
   ]
  },
  {
   "cell_type": "markdown",
   "metadata": {},
   "source": [
    "<br>\n",
    "\n",
    "## Step 3 : While을 이용한 Zumi 라이트 켜고 끄기\n",
    "반복문 `While`을 사용하면 조건이 참(True)인 동안 계속해서 Zumi 라이트를 켜고 끌 수 있습니다. 아래의 셀을 실행시켜 Zumi 라이트를 반복해서 켜고 꺼봅시다.\n",
    "\n",
    "<img src='image/ch6/while.png' width = 250>\n",
    "\n",
    "<br>"
   ]
  },
  {
   "cell_type": "markdown",
   "metadata": {},
   "source": [
    "#### 계속해서 전면 라이트 깜빡이기"
   ]
  },
  {
   "cell_type": "code",
   "execution_count": null,
   "metadata": {
    "scrolled": true
   },
   "outputs": [],
   "source": [
    "while True:\n",
    "    zumi.headlights_on()\n",
    "    screen.draw_text_center('headlights on')\n",
    "    time.sleep(1)\n",
    "    zumi.headlights_off()\n",
    "    screen.draw_text_center('headlights off')\n",
    "    time.sleep(1)"
   ]
  },
  {
   "cell_type": "markdown",
   "metadata": {},
   "source": [
    "무한 반복을 멈추기 위해 중지 아이콘을 누르면 KeyboardInterrupt 에러가 발생합니다. 에러가 발생하지 않고 무한 반복을 멈추기 위해 `try`와 `except`를 사용해야 합니다."
   ]
  },
  {
   "cell_type": "markdown",
   "metadata": {},
   "source": [
    "#### 계속해서 전면 라이트 깜빡이기"
   ]
  },
  {
   "cell_type": "code",
   "execution_count": 9,
   "metadata": {
    "scrolled": true
   },
   "outputs": [],
   "source": [
    "try:    \n",
    "    while True:\n",
    "        zumi.headlights_on()\n",
    "        screen.draw_text_center('headlights on')\n",
    "        time.sleep(1)\n",
    "        zumi.headlights_off()\n",
    "        screen.draw_text_center('headlights off')\n",
    "        time.sleep(1)\n",
    "\n",
    "        \n",
    "except KeyboardInterrupt:\n",
    "    screen.draw_text_center('finish')\n",
    "    time.sleep(3)\n",
    "    zumi.all_lights_off()\n",
    "    screen.clear_display()"
   ]
  },
  {
   "cell_type": "markdown",
   "metadata": {},
   "source": [
    "<img src=\"image/icon.png\" align='left'> <b>Zumi의 원하는 라이트를 계속해서 켜고 끄도록 코딩해 보세요."
   ]
  },
  {
   "cell_type": "code",
   "execution_count": null,
   "metadata": {
    "scrolled": true
   },
   "outputs": [],
   "source": [
    "try:    \n",
    "    #여기에 코딩해 보세요.\n",
    "        \n",
    "except KeyboardInterrupt:\n",
    "    screen.draw_text_center('finish')\n",
    "    time.sleep(3)\n",
    "    zumi.all_lghts_off()\n",
    "    screen.clear_display()"
   ]
  },
  {
   "cell_type": "markdown",
   "metadata": {},
   "source": [
    "### 해결 방법\n",
    "\n",
    "<br>\n",
    "<font size =3>\n",
    "    <details>\n",
    "        <summary><span style=\"color:blue\"><u>해결 방법을 보려면 여기를 클릭하세요!</u></span></summary>\n",
    "            <font face=\"Courier\"><br>\n",
    "<span style=\"margin-left: 40px;\">try:<br></span>\n",
    "<span style=\"margin-left: 80px;\">zumi.all_lights_on()<br></span>\n",
    "<span style=\"margin-left: 80px;\">screen.draw_text_center('all_lights on')<br></span>\n",
    "<span style=\"margin-left: 80px;\">time.sleep(1)<br></span>\n",
    "<span style=\"margin-left: 80px;\">zumi.all_lights_off()<br></span>\n",
    "<span style=\"margin-left: 80px;\">screen.draw_text_center('all_lights off')<br></span>\n",
    "<span style=\"margin-left: 80px;\">time.sleep(1)<br></span>\n",
    "\n",
    "<span style=\"margin-left: 40px;\">except KeyboardInterrupt:<br></span>\n",
    "<span style=\"margin-left: 80px;\">screen.draw_text_center('finish')<br></span>\n",
    "<span style=\"margin-left: 80px;\">time.sleep(3)<br></span>\n",
    "<span style=\"margin-left: 80px;\">zumi.all_lghts_off()<br></span>\n",
    "<span style=\"margin-left: 80px;\">screen.clear_display()<br></span>\n",
    "            </font>\n",
    "    </details>\n",
    "</font>"
   ]
  },
  {
   "cell_type": "markdown",
   "metadata": {},
   "source": [
    "#### Zumi 전면 라이트를 10번 반복해서 켜고 끄기"
   ]
  },
  {
   "cell_type": "code",
   "execution_count": 10,
   "metadata": {
    "scrolled": true
   },
   "outputs": [],
   "source": [
    "count = 1\n",
    "\n",
    "while count < 11:\n",
    "    zumi.headlights_on()\n",
    "    screen.draw_text_center('count : ' + str(count))\n",
    "    time.sleep(1)\n",
    "    zumi.headlights_off()\n",
    "    time.sleep(1)\n",
    "\n",
    "    count += 1\n",
    "    \n",
    "screen.draw_text_center('finish')\n",
    "time.sleep(3)\n",
    "screen.clear_display()"
   ]
  },
  {
   "cell_type": "markdown",
   "metadata": {},
   "source": [
    "<img src=\"image/icon.png\" align='left'> <b>Zumi 전면 또는 후면 라이트를 원하는 만큼 반복해서 켜고 끄도록 코딩해 보세요."
   ]
  },
  {
   "cell_type": "code",
   "execution_count": null,
   "metadata": {
    "scrolled": true
   },
   "outputs": [],
   "source": [
    "#여기에 코딩해 보세요.\n",
    "\n",
    "screen.draw_text_center('finish')\n",
    "time.sleep(3)\n",
    "screen.clear_display()"
   ]
  },
  {
   "cell_type": "markdown",
   "metadata": {},
   "source": [
    "### 해결 방법\n",
    "\n",
    "<br>\n",
    "<font size =3>\n",
    "    <details>\n",
    "        <summary><span style=\"color:blue\"><u>해결 방법을 보려면 여기를 클릭하세요!</u></span></summary>\n",
    "            <font face=\"Courier\"><br>\n",
    "<span style=\"margin-left: 40px;\">count = 1<br></span>\n",
    "<span style=\"margin-left: 40px;\"><br></span>\n",
    "<span style=\"margin-left: 40px;\">while count < 5:<br></span>\n",
    "<span style=\"margin-left: 80px;\">zumi.brake_lights_on()<br></span>\n",
    "<span style=\"margin-left: 80px;\">screen.draw_text_center('count : ' + str(count))<br></span>\n",
    "<span style=\"margin-left: 80px;\">time.sleep(1)<br></span>\n",
    "<span style=\"margin-left: 80px;\">zumi.brake_lights_off()<br></span>\n",
    "<span style=\"margin-left: 80px;\">time.sleep(1)<br></span>\n",
    "<span style=\"margin-left: 40px;\"><br></span>\n",
    "<span style=\"margin-left: 80px;\">count += 1<br></span>\n",
    "\n",
    "<span style=\"margin-left: 40px;\">screen.draw_text_center('finish')<br></span>\n",
    "<span style=\"margin-left: 40px;\">time.sleep(3)<br></span>\n",
    "<span style=\"margin-left: 40px;\">screen.clear_display()<br></span>\n",
    "            </font>\n",
    "    </details>\n",
    "</font>"
   ]
  },
  {
   "cell_type": "markdown",
   "metadata": {},
   "source": [
    "<br>\n",
    "\n",
    "## Step 4 :  if를 이용한 Zumi 라이트 켜고 끄기\n",
    "조건문 `if`는 조건이 '참(True)'이면 코드를 실행시키고 '거짓(False)'이면 다른 코드를 실행시킬 수 있도록 하는 python의 기능입니다. 조건문 if와 적외선센서를 같이 사용하여 Zumi 라이트를 제어해 봅시다.\n",
    "<br>\n",
    "\n",
    "<img src='image/ch6/if.png' width = 400>\n"
   ]
  },
  {
   "cell_type": "markdown",
   "metadata": {},
   "source": [
    "#### Zumi 전면 오른쪽 적외선센서에 물체가 감지되었을 때, 전면 라이트를 켜기"
   ]
  },
  {
   "cell_type": "code",
   "execution_count": 12,
   "metadata": {
    "scrolled": true
   },
   "outputs": [],
   "source": [
    "count = 0\n",
    "\n",
    "while count < 20:\n",
    "    front_right = zumi.boolean_IR('front_right')\n",
    "    \n",
    "    if front_right == True:\n",
    "        screen.draw_text_center('Detect')\n",
    "        zumi.headlights_on()\n",
    "        \n",
    "    if front_right == False:\n",
    "        screen.draw_text_center('Not Detect')\n",
    "        zumi.headlights_off()\n",
    "        \n",
    "    time.sleep(0.5)\n",
    "    \n",
    "    count += 1\n",
    "    \n",
    "screen.draw_text_center('finish')\n",
    "time.sleep(3)\n",
    "screen.clear_display()"
   ]
  },
  {
   "cell_type": "markdown",
   "metadata": {},
   "source": [
    "<img src=\"image/icon.png\" align='left'> <b>Zumi 적외선센서에 물체가 감지되었을 때, 원하는 라이트가 켜지도록 코딩해 보세요."
   ]
  },
  {
   "cell_type": "code",
   "execution_count": null,
   "metadata": {
    "scrolled": true
   },
   "outputs": [],
   "source": [
    "#여기에 코딩해 보세요."
   ]
  },
  {
   "cell_type": "markdown",
   "metadata": {},
   "source": [
    "### 해결 방법\n",
    "\n",
    "<br>\n",
    "<font size =3>\n",
    "    <details>\n",
    "        <summary><span style=\"color:blue\"><u>해결 방법을 보려면 여기를 클릭하세요!</u></span></summary>\n",
    "            <font face=\"Courier\"><br>\n",
    "<span style=\"margin-left: 40px;\">count = 0<br></span>\n",
    "<span style=\"margin-left: 40px;\"><br></span>\n",
    "<span style=\"margin-left: 40px;\">while count < 20:<br></span>\n",
    "<span style=\"margin-left: 80px;\">front_right = zumi.boolean_IR('front_right')<br></span>\n",
    "\n",
    "<span style=\"margin-left: 80px;\">if front_right == True:<br></span>\n",
    "<span style=\"margin-left: 120px;\">screen.draw_text_center('Detect')<br></span>\n",
    "<span style=\"margin-left: 120px;\">zumi.all_lights_on()<br></span>\n",
    "\n",
    "<span style=\"margin-left: 80px;\">if front_right == False:<br></span>\n",
    "<span style=\"margin-left: 120px;\">screen.draw_text_center('Not Detect')<br></span>\n",
    "<span style=\"margin-left: 120px;\">zumi.all_lights_off()<br></span>\n",
    "\n",
    "<span style=\"margin-left: 80px;\">time.sleep(0.5)<br></span>\n",
    "\n",
    "<span style=\"margin-left: 80px;\">count += 1<br></span>\n",
    "\n",
    "<span style=\"margin-left: 40px;\">screen.draw_text_center('finish')<br></span>\n",
    "<span style=\"margin-left: 40px;\">time.sleep(3)<br></span>\n",
    "<span style=\"margin-left: 40px;\">screen.clear_display()<br></span>\n",
    "            </font>\n",
    "    </details>\n",
    "</font>"
   ]
  },
  {
   "cell_type": "markdown",
   "metadata": {},
   "source": [
    "<img src=\"image/icon.png\" align='left'> <b>키보드 입력을 받아 Zumi가 주행하면서 라이트를 켜도록 자유롭게 동작시켜보세요. \n",
    "    <img src = \"image/ch6/wasd2.png\" width = 800>"
   ]
  },
  {
   "cell_type": "code",
   "execution_count": 6,
   "metadata": {
    "scrolled": true
   },
   "outputs": [
    {
     "name": "stdout",
     "output_type": "stream",
     "text": [
      "Please enter a command: d\n",
      "Please enter a command: a\n"
     ]
    },
    {
     "ename": "KeyboardInterrupt",
     "evalue": "",
     "output_type": "error",
     "traceback": [
      "\u001b[0;31m---------------------------------------------------------------------------\u001b[0m",
      "\u001b[0;31mKeyboardInterrupt\u001b[0m                         Traceback (most recent call last)",
      "\u001b[0;32m/usr/local/lib/python3.5/dist-packages/ipykernel/kernelbase.py\u001b[0m in \u001b[0;36m_input_request\u001b[0;34m(self, prompt, ident, parent, password)\u001b[0m\n\u001b[1;32m    877\u001b[0m             \u001b[0;32mtry\u001b[0m\u001b[0;34m:\u001b[0m\u001b[0;34m\u001b[0m\u001b[0m\n\u001b[0;32m--> 878\u001b[0;31m                 \u001b[0mident\u001b[0m\u001b[0;34m,\u001b[0m \u001b[0mreply\u001b[0m \u001b[0;34m=\u001b[0m \u001b[0mself\u001b[0m\u001b[0;34m.\u001b[0m\u001b[0msession\u001b[0m\u001b[0;34m.\u001b[0m\u001b[0mrecv\u001b[0m\u001b[0;34m(\u001b[0m\u001b[0mself\u001b[0m\u001b[0;34m.\u001b[0m\u001b[0mstdin_socket\u001b[0m\u001b[0;34m,\u001b[0m \u001b[0;36m0\u001b[0m\u001b[0;34m)\u001b[0m\u001b[0;34m\u001b[0m\u001b[0m\n\u001b[0m\u001b[1;32m    879\u001b[0m             \u001b[0;32mexcept\u001b[0m \u001b[0mException\u001b[0m\u001b[0;34m:\u001b[0m\u001b[0;34m\u001b[0m\u001b[0m\n",
      "\u001b[0;32m/usr/local/lib/python3.5/dist-packages/jupyter_client/session.py\u001b[0m in \u001b[0;36mrecv\u001b[0;34m(self, socket, mode, content, copy)\u001b[0m\n\u001b[1;32m    802\u001b[0m         \u001b[0;32mtry\u001b[0m\u001b[0;34m:\u001b[0m\u001b[0;34m\u001b[0m\u001b[0m\n\u001b[0;32m--> 803\u001b[0;31m             \u001b[0mmsg_list\u001b[0m \u001b[0;34m=\u001b[0m \u001b[0msocket\u001b[0m\u001b[0;34m.\u001b[0m\u001b[0mrecv_multipart\u001b[0m\u001b[0;34m(\u001b[0m\u001b[0mmode\u001b[0m\u001b[0;34m,\u001b[0m \u001b[0mcopy\u001b[0m\u001b[0;34m=\u001b[0m\u001b[0mcopy\u001b[0m\u001b[0;34m)\u001b[0m\u001b[0;34m\u001b[0m\u001b[0m\n\u001b[0m\u001b[1;32m    804\u001b[0m         \u001b[0;32mexcept\u001b[0m \u001b[0mzmq\u001b[0m\u001b[0;34m.\u001b[0m\u001b[0mZMQError\u001b[0m \u001b[0;32mas\u001b[0m \u001b[0me\u001b[0m\u001b[0;34m:\u001b[0m\u001b[0;34m\u001b[0m\u001b[0m\n",
      "\u001b[0;32m/usr/local/lib/python3.5/dist-packages/zmq/sugar/socket.py\u001b[0m in \u001b[0;36mrecv_multipart\u001b[0;34m(self, flags, copy, track)\u001b[0m\n\u001b[1;32m    469\u001b[0m         \"\"\"\n\u001b[0;32m--> 470\u001b[0;31m         \u001b[0mparts\u001b[0m \u001b[0;34m=\u001b[0m \u001b[0;34m[\u001b[0m\u001b[0mself\u001b[0m\u001b[0;34m.\u001b[0m\u001b[0mrecv\u001b[0m\u001b[0;34m(\u001b[0m\u001b[0mflags\u001b[0m\u001b[0;34m,\u001b[0m \u001b[0mcopy\u001b[0m\u001b[0;34m=\u001b[0m\u001b[0mcopy\u001b[0m\u001b[0;34m,\u001b[0m \u001b[0mtrack\u001b[0m\u001b[0;34m=\u001b[0m\u001b[0mtrack\u001b[0m\u001b[0;34m)\u001b[0m\u001b[0;34m]\u001b[0m\u001b[0;34m\u001b[0m\u001b[0m\n\u001b[0m\u001b[1;32m    471\u001b[0m         \u001b[0;31m# have first part already, only loop while more to receive\u001b[0m\u001b[0;34m\u001b[0m\u001b[0;34m\u001b[0m\u001b[0m\n",
      "\u001b[0;32mzmq/backend/cython/socket.pyx\u001b[0m in \u001b[0;36mzmq.backend.cython.socket.Socket.recv\u001b[0;34m()\u001b[0m\n",
      "\u001b[0;32mzmq/backend/cython/socket.pyx\u001b[0m in \u001b[0;36mzmq.backend.cython.socket.Socket.recv\u001b[0;34m()\u001b[0m\n",
      "\u001b[0;32mzmq/backend/cython/socket.pyx\u001b[0m in \u001b[0;36mzmq.backend.cython.socket._recv_copy\u001b[0;34m()\u001b[0m\n",
      "\u001b[0;32m/usr/local/lib/python3.5/dist-packages/zmq/backend/cython/checkrc.pxd\u001b[0m in \u001b[0;36mzmq.backend.cython.checkrc._check_rc\u001b[0;34m()\u001b[0m\n",
      "\u001b[0;31mKeyboardInterrupt\u001b[0m: ",
      "\nDuring handling of the above exception, another exception occurred:\n",
      "\u001b[0;31mKeyboardInterrupt\u001b[0m                         Traceback (most recent call last)",
      "\u001b[0;32m<ipython-input-6-dca3ceae9e51>\u001b[0m in \u001b[0;36m<module>\u001b[0;34m\u001b[0m\n\u001b[1;32m      1\u001b[0m \u001b[0;32mwhile\u001b[0m \u001b[0;32mTrue\u001b[0m\u001b[0;34m:\u001b[0m\u001b[0;34m\u001b[0m\u001b[0m\n\u001b[1;32m      2\u001b[0m \u001b[0;34m\u001b[0m\u001b[0m\n\u001b[0;32m----> 3\u001b[0;31m     \u001b[0mdirection\u001b[0m \u001b[0;34m=\u001b[0m \u001b[0minput\u001b[0m\u001b[0;34m(\u001b[0m\u001b[0;34m\"Please enter a command: \"\u001b[0m\u001b[0;34m)\u001b[0m\u001b[0;34m\u001b[0m\u001b[0m\n\u001b[0m\u001b[1;32m      4\u001b[0m \u001b[0;34m\u001b[0m\u001b[0m\n\u001b[1;32m      5\u001b[0m     \u001b[0;32mif\u001b[0m \u001b[0mdirection\u001b[0m \u001b[0;34m==\u001b[0m \u001b[0;34m\"w\"\u001b[0m\u001b[0;34m:\u001b[0m\u001b[0;34m\u001b[0m\u001b[0m\n",
      "\u001b[0;32m/usr/local/lib/python3.5/dist-packages/ipykernel/kernelbase.py\u001b[0m in \u001b[0;36mraw_input\u001b[0;34m(self, prompt)\u001b[0m\n\u001b[1;32m    851\u001b[0m             \u001b[0mself\u001b[0m\u001b[0;34m.\u001b[0m\u001b[0m_parent_ident\u001b[0m\u001b[0;34m,\u001b[0m\u001b[0;34m\u001b[0m\u001b[0m\n\u001b[1;32m    852\u001b[0m             \u001b[0mself\u001b[0m\u001b[0;34m.\u001b[0m\u001b[0m_parent_header\u001b[0m\u001b[0;34m,\u001b[0m\u001b[0;34m\u001b[0m\u001b[0m\n\u001b[0;32m--> 853\u001b[0;31m             \u001b[0mpassword\u001b[0m\u001b[0;34m=\u001b[0m\u001b[0;32mFalse\u001b[0m\u001b[0;34m,\u001b[0m\u001b[0;34m\u001b[0m\u001b[0m\n\u001b[0m\u001b[1;32m    854\u001b[0m         )\n\u001b[1;32m    855\u001b[0m \u001b[0;34m\u001b[0m\u001b[0m\n",
      "\u001b[0;32m/usr/local/lib/python3.5/dist-packages/ipykernel/kernelbase.py\u001b[0m in \u001b[0;36m_input_request\u001b[0;34m(self, prompt, ident, parent, password)\u001b[0m\n\u001b[1;32m    881\u001b[0m             \u001b[0;32mexcept\u001b[0m \u001b[0mKeyboardInterrupt\u001b[0m\u001b[0;34m:\u001b[0m\u001b[0;34m\u001b[0m\u001b[0m\n\u001b[1;32m    882\u001b[0m                 \u001b[0;31m# re-raise KeyboardInterrupt, to truncate traceback\u001b[0m\u001b[0;34m\u001b[0m\u001b[0;34m\u001b[0m\u001b[0m\n\u001b[0;32m--> 883\u001b[0;31m                 \u001b[0;32mraise\u001b[0m \u001b[0mKeyboardInterrupt\u001b[0m\u001b[0;34m\u001b[0m\u001b[0m\n\u001b[0m\u001b[1;32m    884\u001b[0m             \u001b[0;32melse\u001b[0m\u001b[0;34m:\u001b[0m\u001b[0;34m\u001b[0m\u001b[0m\n\u001b[1;32m    885\u001b[0m                 \u001b[0;32mbreak\u001b[0m\u001b[0;34m\u001b[0m\u001b[0m\n",
      "\u001b[0;31mKeyboardInterrupt\u001b[0m: "
     ]
    }
   ],
   "source": [
    "while True:\n",
    "\n",
    "    direction = input(\"Please enter a command: \")\n",
    "\n",
    "    if direction == \"w\":\n",
    "        #여기에 코딩해 보세요. forward light on\n",
    "        zumi.forward()\n",
    "        zumi.headlights_on()\n",
    "        time.sleep(2)\n",
    "        zumi.headlights_off()\n",
    "        \n",
    "    if direction == \"s\":\n",
    "        #여기에 코딩해 보세요. reverse back light on\n",
    "        zumi.reverse()\n",
    "        zumi.brake_lights_on()\n",
    "        time.sleep(2)\n",
    "        zumi.brake_lights_off()\n",
    "        \n",
    "    if direction == \"a\":\n",
    "        #여기에 코딩해 보세요. turn left left light on\n",
    "        zumi.signal_left_on()\n",
    "        time.sleep(2)\n",
    "        zumi.signal_left_off()\n",
    "        zumi.turn_left()\n",
    "        \n",
    "    if direction == \"d\":\n",
    "        #여기에 코딩해 보세요. turn right right light on\n",
    "        zumi.signal_right_on()\n",
    "        time.sleep(2)\n",
    "        zumi.signal_right_off()\n",
    "        zumi.turn_right()\n",
    "\n",
    "    if direction == \"q\":\n",
    "        break\n",
    "        "
   ]
  },
  {
   "cell_type": "markdown",
   "metadata": {},
   "source": [
    "### 해결 방법\n",
    "\n",
    "<br>\n",
    "<font size =3>\n",
    "    <details>\n",
    "        <summary><span style=\"color:blue\"><u>해결 방법을 보려면 여기를 클릭하세요!</u></span></summary>\n",
    "            <font face=\"Courier\"><br>\n",
    "<span style=\"margin-left: 40px;\">while True:<br></span>\n",
    "<span style=\"margin-left: 40px;\"><br></span>\n",
    "<span style=\"margin-left: 80px;\">direction = input(\"Please enter a command: \")<br></span>\n",
    "<span style=\"margin-left: 40px;\"><br></span>\n",
    "<span style=\"margin-left: 80px;\">if direction == \"w\":        <br></span>\n",
    "<span style=\"margin-left: 120px;\">zumi.forward()<br></span>\n",
    "<span style=\"margin-left: 80px;\">if direction == \"s\":<br></span>\n",
    "<span style=\"margin-left: 120px;\">zumi.reverse()<br></span>\n",
    "<span style=\"margin-left: 80px;\">if direction == \"a\":<br></span>\n",
    "<span style=\"margin-left: 120px;\">zumi.turn_left()<br></span>\n",
    "<span style=\"margin-left: 80px;\">if direction == \"d\":<br></span>\n",
    "<span style=\"margin-left: 120px;\">zumi.turn_right()<br></span>\n",
    "<span style=\"margin-left: 40px;\"><br></span>\n",
    "<span style=\"margin-left: 80px;\">if direction == \"q\":<br></span>\n",
    "<span style=\"margin-left: 120px;\">break<br></span>\n",
    "            </font>\n",
    "    </details>\n",
    "</font>"
   ]
  },
  {
   "cell_type": "markdown",
   "metadata": {},
   "source": [
    "# 교통신호를 지키면서 안전운전을 해보세요.\n",
    "\n",
    "<img src=\"image/ch13/road_map_Intermediate.jpg\" width= 700>\n",
    "\n",
    "중급주행 맵 경로 : [중급주행 맵1](image/ch13/Intermediate_road_map1.jpg)\n",
    "[중급주행 맵2](image/ch13/Intermediate_road_map2.jpg)\n",
    "[중급주행 맵3](image/ch13/Intermediate_road_map3.jpg)\n",
    "[중급주행 맵4](image/ch13/Intermediate_road_map4.jpg)<br>\n",
    "\n",
    "<b>(이미지를 다른 이름으로 저장합니다. 용지 사이즈는 A3이고 비율 자동맞춤 관련 설정을 모두 해제하고 출력하세요. 4개의 맵을 이어 붙입니다.)"
   ]
  },
  {
   "cell_type": "markdown",
   "metadata": {},
   "source": [
    "### 해결 방법\n",
    "\n",
    "<br>\n",
    "<font size =3>\n",
    "    <details>\n",
    "        <summary><span style=\"color:blue\"><u>해결 방법을 보려면 여기를 클릭하세요!</u></span></summary>\n",
    "            <font face=\"Courier\"><br>\n",
    "<span style=\"margin-left: 40px;\">while True:<br></span>\n",
    "<span style=\"margin-left: 40px;\"><br></span>\n",
    "<span style=\"margin-left: 80px;\">direction = input(\"Please enter a command: \")<br></span>\n",
    "<span style=\"margin-left: 40px;\"><br></span>\n",
    "<span style=\"margin-left: 80px;\">if direction == \"w\":     <br></span>\n",
    "<span style=\"margin-left: 120px;\">zumi.headlights_on()<br></span>\n",
    "<span style=\"margin-left: 120px;\">zumi.forward(30,0.5)<br></span>\n",
    "<span style=\"margin-left: 120px;\">zumi.headlights_off()<br></span>\n",
    "\n",
    "<span style=\"margin-left: 80px;\">if direction == \"s\":<br></span>\n",
    "<span style=\"margin-left: 120px;\">zumi.brake_lights_on()       <br></span>\n",
    "<span style=\"margin-left: 120px;\">zumi.reverse(30,0.5)<br></span>\n",
    "<span style=\"margin-left: 120px;\">zumi.brake_lights_off()    <br></span>\n",
    "\n",
    "<span style=\"margin-left: 80px;\">if direction == \"a\":<br></span>\n",
    "<span style=\"margin-left: 120px;\">zumi.signal_left_on()<br></span>\n",
    "<span style=\"margin-left: 120px;\">zumi.turn_left(45)<br></span>\n",
    "<span style=\"margin-left: 120px;\">zumi.signal_left_off()<br></span>\n",
    "\n",
    "<span style=\"margin-left: 80px;\">if direction == \"d\":        <br></span>\n",
    "<span style=\"margin-left: 120px;\">zumi.signal_right_on()<br></span>\n",
    "<span style=\"margin-left: 120px;\">zumi.turn_right(45)<br></span>\n",
    "<span style=\"margin-left: 120px;\">zumi.signal_right_off()<br></span>\n",
    "\n",
    "<span style=\"margin-left: 80px;\">if direction == \"q\":<br></span>\n",
    "<span style=\"margin-left: 120px;\">break<br></span>\n",
    "            </font>\n",
    "    </details>\n",
    "</font>"
   ]
  }
 ],
 "metadata": {
  "kernelspec": {
   "display_name": "Python 3",
   "language": "python",
   "name": "python3"
  },
  "language_info": {
   "codemirror_mode": {
    "name": "ipython",
    "version": 3
   },
   "file_extension": ".py",
   "mimetype": "text/x-python",
   "name": "python",
   "nbconvert_exporter": "python",
   "pygments_lexer": "ipython3",
   "version": "3.5.3"
  }
 },
 "nbformat": 4,
 "nbformat_minor": 2
}
