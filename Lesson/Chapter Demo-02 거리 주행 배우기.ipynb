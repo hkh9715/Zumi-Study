{
 "cells": [
  {
   "cell_type": "markdown",
   "metadata": {},
   "source": [
    "<img src=\"image/demo0/ZumiHeader.png\" width=700>"
   ]
  },
  {
   "cell_type": "markdown",
   "metadata": {},
   "source": [
    "# 간단한 머신 러닝 : 회귀 (Regression)\n",
    "\n",
    "이 예제를 진행하려면 <font size=3> <span style=\"color:red\"> 데모 - 거리 주행 배우기</span> <font size=3> 가 필요합니다!\n",
    "  \n",
    "<img src=\"image/demo0/demo_Regression_and_Calculating_Distance.png\" width=750>    "
   ]
  },
  {
   "cell_type": "markdown",
   "metadata": {},
   "source": [
    "\n",
    "<font size=3> 주미가 전진하도록 하려면 지속 시간과 속도라는 두 가지 명령을 내릴 수 있습니다. 하지만 목표물까지의 거리가 10.5 센티미터(cm) 라는 것을 안다면 어떨까요? 목표에 도달하기 위해 몇 초 동안 운전해야하며 어떤 속도로 주행해야합니까? 이와 같은 상황에서는 지속 시간과 이동 거리 간의 관계를 알아야합니다.  \n",
    "이 레슨에서는 주미에서 데이터를 수집하고 간단한 머신러닝을 사용하여 지정된 거리로 이동하는 데 필요한 시간을 예측하는 방법을 알아 봅니다.\n",
    "\n",
    "### 라이브러리 가져 오기\n",
    "<font size=3>주미 라이브러리를 가져옵니다.</font>"
   ]
  },
  {
   "cell_type": "code",
   "execution_count": null,
   "metadata": {},
   "outputs": [],
   "source": [
    "from zumi.zumi import Zumi\n",
    "zumi = Zumi()"
   ]
  },
  {
   "cell_type": "markdown",
   "metadata": {},
   "source": [
    "## 데이터를 어떻게 플로팅합니까?\n",
    "<font size=3> 데이터를 플로팅 할 때 순서가 지정된 쌍 목록이나 x 및 y 값 테이블이 있으므로 그래프에 플로팅 할 수 있습니다. 수학 수업에서 해당 테이블은 다음과 같습니다.\n",
    " \n",
    "<table style=\"width:50%\">\n",
    "  <tr>\n",
    "    <th>온도 (x)</th>\n",
    "    <th>아이스 크림 판매량 (y)</th> \n",
    "  </tr>\n",
    "    <tr>\n",
    "    <td>60</td>\n",
    "    <td>15</td>\n",
    "  </tr>\n",
    "  <tr>\n",
    "    <td>62</td>\n",
    "    <td>20</td>\n",
    "  </tr>\n",
    "     <tr>\n",
    "    <td>64</td>\n",
    "    <td>22</td>\n",
    "  </tr>\n",
    "     <tr>\n",
    "    <td>65</td>\n",
    "    <td>26</td>\n",
    "  </tr>\n",
    "     <tr>\n",
    "    <td>70</td>\n",
    "    <td>34</td>\n",
    "  </tr>\n",
    "    <tr>\n",
    "    <td>74</td>\n",
    "    <td>39</td>\n",
    "  </tr>\n",
    "    <tr>\n",
    "    <td>82</td>\n",
    "    <td>59</td>\n",
    "  </tr>\n",
    " \n",
    "</table>\n",
    "\n",
    "<br>\n",
    "\n",
    "<font size=3> 그런 다음 정렬 된 쌍을 그래프에 플로팅하고 데이터에 가장 잘 맞는 선이나 곡선을 그려서 이 두 데이터 세트 간의 관계를 찾습니다. 이것은 매우 창의적으로 최적의 라인이라고 불립니다. 이 경우 온도와 아이스크림 판매 간의 관계는 선형입니다. 플롯을 사용하여 온도를 기준으로 아이스크림 판매량을 예측할 수 있습니다!</font>\n",
    "\n",
    "<img src=\"image/demo0/best_fit_example.png\" width=500>\n",
    "\n",
    "수학 수업 시간에 테이블을 만들 수 있지만 플로팅하려는 두 세트의 데이터가 있음을 컴퓨터에 어떻게 알릴 수 있습니까? 파이썬에서는 많은 데이터를 보유 할 수있는 데이터 구조 인 목록을 사용할 수 있습니다. 변수처럼 보이지만 대괄호 []로 초기화됩니다. 표를 사용하는 대신 아래와 같은 목록을 사용할 수 있습니다. 다음은 주미로 거리를 측정 할 때 얻은 데이터를 프로그램이 저장하는 방법입니다.\n",
    "    \n",
    "<font face=\"Courier\">\n",
    "x = [60,62,64,65,70,74,82] <br>\n",
    "y = [15,20,22,26,34,39,59] <br>\n",
    "</font>\n",
    "<br>\n",
    "\n",
    "자를 준비하십시오! <font size=3> <span style=\"color:red\"> 데모 - 거리 주행 배우기</span> <font size=3> 를 실행하여 주미에 대한 선 방정식을 얻으십시오. 그런 다음 여기로 돌아와 예측을 운전 명령으로 변환하는 방법을 알아보세요.\n",
    "\n",
    "## 선에 대한 방정식\n",
    "<font size=3>  주미의 주행 속도와 거리 사이의 관계를 나타내는 선에 대한 방정식이 있어야합니다. 이제 어떤 시간 동안 주미가 주행하는 거리를 추정 할 수 있습니다. 그러나 어떻게 그 반대로 할 수 있습니까? 운전하고자하는 거리가 있다면 선의 방정식을 다시 정렬하여 이동해야할 지속 시간을 찾을 수 있습니다.\n",
    "    \n",
    "<img src=\"image/demo0/algebra.png\" width=500>\n",
    "    \n",
    "\"x\"는 운전하는 데 필요한 시간 (초)에 대한 변수이고 \"y\"는 이동 한 거리 (cm)입니다. 정리하면 함수는 아래 코드와 같습니다. 기울기 및 절편 값을  <font size=3> <span style=\"color:red\"> 데모 - 거리주행배우기</span> <font size=3> 에서 얻은 값으로 바꿉니다. 프로그램에서 이 함수를 정의하려면 다음 셀을 실행해야합니다!"
   ]
  },
  {
   "cell_type": "markdown",
   "metadata": {},
   "source": [
    "<img src=\"image/demo0/slope_and_intercept.png\" width=750>\n",
    "\n",
    "데모에서 얻은 기울기와 절편 값을 slope와 intercept에 입력합니다."
   ]
  },
  {
   "cell_type": "code",
   "execution_count": null,
   "metadata": {},
   "outputs": [],
   "source": [
    "def move_centimeters(distance):\n",
    "    slope = #여기에 기울기 값을 입력하세요.\n",
    "    intercept = #여기에 절편 값을 입력하세요.\n",
    "    seconds = (distance - intercept)/slope\n",
    "    zumi.forward(speed=40,duration=seconds)   "
   ]
  },
  {
   "cell_type": "markdown",
   "metadata": {},
   "source": [
    "<font size=3> 이제 특정 거리를 센티미터 단위로 주행하기 위해 호출 할 수있는 새로운 함수가 있습니다. 이 기능은 모든 주미에서 작동 할 수 있지만 기울기와 y 절편은 주미마다 다를 수 있으므로 모터를 변경한 경우 데이터를 다시 가져와야합니다. 자를 꺼내서 5 센티미터를 운전해보세요!"
   ]
  },
  {
   "cell_type": "code",
   "execution_count": null,
   "metadata": {},
   "outputs": [],
   "source": [
    "move_centimeters(5)"
   ]
  },
  {
   "cell_type": "markdown",
   "metadata": {},
   "source": [
    "## 이것이 머신러닝과 어떤 관련이 있습니까?\n",
    "<font size=3>  몇 가지 데이터 포인트가 주어지면 주미는 주행 거리와 주행 시간 사이의 패턴을 찾을 수 있었습니다. 이 경우 우리는 알려진 수학 공식을 사용했습니다. 그러나 더 많은 변수와 더 많은 데이터가 있는 경우 이 간단한 방정식은 작동하지 않습니다. 알고리즘은 \"최적\" 을 찾기 위해 다른 패턴을 테스트하여 데이터의 추세를 찾아야합니다. 알고리즘은 모든 시도에서 오류를 줄이려고 시도합니다. 고급 머신 러닝 강의에서 이에 대한 더 많은 예를 볼 수 있습니다.\n",
    "\n",
    "## 도전\n",
    "* 생성 한 방정식을 사용하여 3.0, 4.0, 5.0 및 6.0 초 동안의 거리를 예측합니다. 다음으로 주미가 그 시간 동안 운전하고 예측이 올바른지 확인하십시오!\n",
    "* 운전하고자하는 인치 수를 받는 move_inches ()라는 함수를 만드십시오.1 인치가 몇 센티미터인지 알고계십니까?\n",
    "  (1 inch = 2.54 cm)\n",
    "* 장애물 코스를 탐색하거나 거리를 대신 사용하여 복잡한 패턴으로 운전하십시오."
   ]
  }
 ],
 "metadata": {
  "kernelspec": {
   "display_name": "Python 3",
   "language": "python",
   "name": "python3"
  },
  "language_info": {
   "codemirror_mode": {
    "name": "ipython",
    "version": 3
   },
   "file_extension": ".py",
   "mimetype": "text/x-python",
   "name": "python",
   "nbconvert_exporter": "python",
   "pygments_lexer": "ipython3",
   "version": "3.5.3"
  }
 },
 "nbformat": 4,
 "nbformat_minor": 2
}
