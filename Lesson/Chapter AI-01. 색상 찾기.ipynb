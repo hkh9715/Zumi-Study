{
 "cells": [
  {
   "cell_type": "markdown",
   "metadata": {},
   "source": [
    "<img src=\"image/ai0/Title_Color_Picker.png\" width=1000>"
   ]
  },
  {
   "cell_type": "markdown",
   "metadata": {},
   "source": [
    "# 컴퓨터는 어떻게 색상을 보고 구분할 수 있을까요?\n",
    "\n",
    "각 픽셀은 숫자로 나타낼 수 있기 때문에, 그림은 숫자의 격자(Grid of numbers)입니다.\n",
    "이것이 바로 인간과 컴퓨터가 이미지를 조금 다르게 보기 시작하는 지점입니다."
   ]
  },
  {
   "cell_type": "markdown",
   "metadata": {},
   "source": [
    "## 컴퓨터의 이미지란\n",
    "\n",
    "이미지는 `픽셀` (Picture element의 준말)이라고하는 작은 점의 배열로 구성됩니다.   \n",
    "\n",
    "픽셀은 단일 색상이거나 색상의 조합 일 수 있으며, 각 색상은 빨간색, 녹색 및 파랑의 양을 정확히 알려주는 일련의 숫자 3개로 표시됩니다.   \n",
    "이를 `RGB` 값이라고 하며, 이는 `빨간색(Red)`, `녹색(Green)`, `파란색(Blue)`의 앞 글자들을 의미합니다.   \n",
    "\n",
    "예를 들어, 청록색은  빨간색이 많지 않지만 녹색과 파란색이 많기 때문에 (27, 209, 197)처럼 보일 수 있습니다.    \n",
    "\n",
    "RGB의 각 값은 0과 255 사이이므로 각 색상에 대해 선택할 수 있는 값은 256개입니다.   \n",
    "\n",
    "그 결과, 256 ^ 3 이라는 16,777,216개의 다른 색상 조합이 가능합니다."
   ]
  },
  {
   "cell_type": "markdown",
   "metadata": {},
   "source": [
    "<img src=\"image/ai0/Color_Picker_01.png\" width=430>"
   ]
  },
  {
   "cell_type": "markdown",
   "metadata": {},
   "source": [
    "## 이미지의 매트릭스"
   ]
  },
  {
   "cell_type": "markdown",
   "metadata": {},
   "source": [
    "각 픽셀은 숫자로 나타낼 수 있기 때문에, 그림은 숫자의 격자(Grid of numbers)입니다.     \n",
    "이것이 바로 인간과 컴퓨터가 이미지를 조금 다르게 보기 시작하는 지점입니다.   \n",
    "인간은 우리가 다른 개체로 인식하는 색상과 모양을 보지만, 컴퓨터는 매트릭스라고 불리기도 하는 숫자의 격자만 봅니다.   \n",
    "각 숫자는 각 픽셀의 RGB 값을나타냅니다. 그것은 다음과 같이 나타냅니다.   "
   ]
  },
  {
   "cell_type": "markdown",
   "metadata": {},
   "source": [
    "<img src=\"image/ai0/Color_Picker_02.png\" width=430>"
   ]
  },
  {
   "cell_type": "markdown",
   "metadata": {},
   "source": [
    "## HSV 색공간"
   ]
  },
  {
   "cell_type": "markdown",
   "metadata": {},
   "source": [
    "컴퓨터는 이미지 매트릭스의 모든 숫자 값을 처리하여 각 색상에 레이블을 지정한 다음 해당 값을 사용하여 색상을 추측했습니다.\n",
    "\n",
    "여러분은 RGB 색공간에 대해배웠지만, 이 프로그램은 각 RGB 이미지를 `HSV`로변환했습니다.  \n",
    "`HSV는Hue(색상)`, `Saturation(채도)`, 그리고 `Value(명도)`를나타냅니다.   "
   ]
  },
  {
   "cell_type": "markdown",
   "metadata": {},
   "source": [
    "* Hue : 일반적으로 0-360 범위와 색을 나타냅니다.   \n",
    "  색상: 지정한색이원기둥의수평단면의어느방향에 위치하는가에 따라 색상이 결정됩니다.   \n",
    "\n",
    "\n",
    "* Saturation : 채도는 색의 강도입니다.   \n",
    "  채도: 반지름값에 해당하며, 정중앙에 무채색이 위치하고 원기둥의 겉면은 가장 진한 채도를 갖습니다.   \n",
    "  \n",
    "  \n",
    "* Value : 명도는 색상의 밝기를 나타내며, 흰색, 빨간색등을 100%, 검은색을 0%로 하였을 때 밝은정도를 표현합니다.(범위0~100%)   \n",
    "  명도: 높이에 해당하며, 위로 갈수록 색이 밝습니다.   "
   ]
  },
  {
   "cell_type": "markdown",
   "metadata": {},
   "source": [
    "<img src=\"image/ai0/Color_Picker_03.png\" width=430>"
   ]
  },
  {
   "cell_type": "markdown",
   "metadata": {},
   "source": [
    "## 카메라 영상속의 색상 찾기\n",
    "\n",
    "주미의 카메라 화면이 실시간으로 비춰지며, 해당 색상을 실시간으로 찾아냅니다.   \n",
    "10초 동안 작동하고 멈추게 됩니다."
   ]
  },
  {
   "cell_type": "code",
   "execution_count": null,
   "metadata": {},
   "outputs": [],
   "source": [
    "from module.object_tracking import ObjectTracking\n",
    "from zumi.util.camera import Camera\n",
    "import IPython.display\n",
    "import PIL.Image\n",
    "import time\n",
    "import cv2\n",
    "\n",
    "camera = Camera()\n",
    "objectTracking = ObjectTracking()\n",
    "\n",
    "try:\n",
    "    camera.start_camera()\n",
    "    \n",
    "    time_out = 10 # 입력한 시간 동안 작동\n",
    "    time_start = time.time()\n",
    "    time_elapsed = 0\n",
    "        \n",
    "    while time_elapsed < time_out:   \n",
    "        time_elapsed = time.time()-time_start\n",
    "                    \n",
    "        frame = camera.capture()    # 사진을 촬영합니다.\n",
    "        frame = objectTracking.register_color(frame)  # 사진의 중심점의 색상을 구합니다.\n",
    "        \n",
    "        img_color = cv2.imread('image/ai0/'+'color circle_w.jpg')  # 원형 색깔표의 이미지를 가져옵니다.\n",
    "        img_color = cv2.resize(img_color, (160, 128)) # 이미지의 사이즈를 줄입니다.\n",
    "        img_color = objectTracking.color_tracking(img_color)  # 등록된 색상과 같은 색의 오브젝트를 추적합니다.\n",
    "                \n",
    "        IPython.display.clear_output(wait=True)\n",
    "        IPython.display.display(PIL.Image.fromarray(frame))   \n",
    "        IPython.display.display(PIL.Image.fromarray(img_color))   \n",
    "                \n",
    "finally:\n",
    "    camera.close()"
   ]
  },
  {
   "cell_type": "markdown",
   "metadata": {},
   "source": [
    "<br>\n",
    "\n",
    "### 예제는 다음과 같이 작동합니다.\n",
    "<img src=\"image/ai0/Color_Picker_04.png\" width=900>"
   ]
  },
  {
   "cell_type": "markdown",
   "metadata": {},
   "source": [
    "<br>\n",
    "\n",
    "## 다양한 색상 인식\n",
    "다음 사진의 색상을 주미를 통해 확인 해 봅니다.    \n",
    "[색상 인식](image/ai0/Color_Picker_05.png)"
   ]
  },
  {
   "cell_type": "markdown",
   "metadata": {},
   "source": [
    "<img src=\"image/ai0/Color_Picker_05.png\" width=1110>"
   ]
  }
 ],
 "metadata": {
  "kernelspec": {
   "display_name": "Python 3",
   "language": "python",
   "name": "python3"
  },
  "language_info": {
   "codemirror_mode": {
    "name": "ipython",
    "version": 3
   },
   "file_extension": ".py",
   "mimetype": "text/x-python",
   "name": "python",
   "nbconvert_exporter": "python",
   "pygments_lexer": "ipython3",
   "version": "3.5.3"
  }
 },
 "nbformat": 4,
 "nbformat_minor": 2
}
